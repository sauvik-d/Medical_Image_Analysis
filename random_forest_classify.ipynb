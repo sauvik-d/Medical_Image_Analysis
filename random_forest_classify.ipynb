{
 "cells": [
  {
   "cell_type": "code",
   "execution_count": 1,
   "metadata": {},
   "outputs": [],
   "source": [
    "import numpy as np\n",
    "import pandas as pd\n",
    "import cv2\n",
    "import os\n",
    "from sklearn.model_selection import train_test_split\n",
    "from sklearn.svm import SVC\n",
    "from sklearn.naive_bayes import GaussianNB\n",
    "from sklearn import tree\n",
    "from sklearn.metrics import accuracy_score, classification_report, confusion_matrix\n",
    "from sklearn.ensemble import RandomForestClassifier,GradientBoostingClassifier\n",
    "import matplotlib.pyplot as plt\n",
    "from sklearn.linear_model import LogisticRegression\n",
    "import tensorflow as tf\n",
    "from tensorflow import keras\n",
    "from skimage.transform import resize\n",
    "from skimage.io import imread"
   ]
  },
  {
   "cell_type": "code",
   "execution_count": 2,
   "metadata": {},
   "outputs": [],
   "source": [
    "Categories=['NORMAL','PNEUMONIA']\n",
    "\n"
   ]
  },
  {
   "cell_type": "code",
   "execution_count": 3,
   "metadata": {},
   "outputs": [],
   "source": [
    "def load_image(datadir, Categories):\n",
    "\n",
    "    flat_data_arr=[]\n",
    "    target_arr=[]\n",
    "\n",
    "    for i in Categories:\n",
    "\n",
    "        print(f'loading... category : {i}')\n",
    "        path=os.path.join(datadir,i)\n",
    "        for img in os.listdir(path):\n",
    "            img_array=imread(os.path.join(path,img))\n",
    "            img_resized=resize(img_array,(150,150,3))\n",
    "            flat_data_arr.append(img_resized.flatten())\n",
    "            target_arr.append(Categories.index(i))\n",
    "        print(f'loaded category:{i} successfully')\n",
    "\n",
    "    flat_data=np.array(flat_data_arr)\n",
    "    target=np.array(target_arr)\n",
    "\n",
    "    df=pd.DataFrame(flat_data)\n",
    "    df['Target']=target\n",
    "\n",
    "    x=df.iloc[:,:-1]\n",
    "    y=df.iloc[:,-1]\n",
    "    return x, y"
   ]
  },
  {
   "cell_type": "code",
   "execution_count": 5,
   "metadata": {},
   "outputs": [
    {
     "name": "stdout",
     "output_type": "stream",
     "text": [
      "loading... category : NORMAL\n",
      "loaded category:NORMAL successfully\n",
      "loading... category : PNEUMONIA\n",
      "loaded category:PNEUMONIA successfully\n"
     ]
    }
   ],
   "source": [
    "datadir = 'D:/github/archive/chest_xray/train'\n",
    "X, y = load_image(datadir, Categories)\n"
   ]
  },
  {
   "cell_type": "code",
   "execution_count": 9,
   "metadata": {},
   "outputs": [
    {
     "name": "stdout",
     "output_type": "stream",
     "text": [
      "loading... category : NORMAL\n",
      "loaded category:NORMAL successfully\n",
      "loading... category : PNEUMONIA\n",
      "loaded category:PNEUMONIA successfully\n"
     ]
    }
   ],
   "source": [
    "datadir2 = 'D:/github/archive/chest_xray/test'\n",
    "X_test2, y_test2 = load_image(datadir2, Categories)"
   ]
  },
  {
   "cell_type": "code",
   "execution_count": 6,
   "metadata": {},
   "outputs": [],
   "source": [
    "X_train, X_test, y_train, y_test = train_test_split(X, y, test_size=0.3, random_state=42)"
   ]
  },
  {
   "cell_type": "code",
   "execution_count": 7,
   "metadata": {},
   "outputs": [],
   "source": [
    "rf1 = RandomForestClassifier(criterion='log_loss')\n",
    "rf2 = RandomForestClassifier(criterion='gini')\n",
    "rf3 = RandomForestClassifier(criterion='entropy')\n",
    "decision_tree = tree.DecisionTreeClassifier()\n",
    "naive_bayes = GaussianNB()\n",
    "gb = GradientBoostingClassifier()\n",
    "svc = SVC()\n",
    "lr = LogisticRegression()"
   ]
  },
  {
   "cell_type": "code",
   "execution_count": 8,
   "metadata": {},
   "outputs": [
    {
     "name": "stdout",
     "output_type": "stream",
     "text": [
      "Random Forest Using log_loss:  0.9571884984025559\n",
      "Random Forest Using gini:  0.9514376996805112\n",
      "Random Forest Using entropy:  0.9533546325878595\n",
      "Using Decision Tree:  0.8773162939297124\n"
     ]
    }
   ],
   "source": [
    "rf1.fit(X_train,y_train)\n",
    "rf2.fit(X_train,y_train)\n",
    "rf3.fit(X_train,y_train)\n",
    "naive_bayes.fit(X_train, y_train)\n",
    "decision_tree.fit(X_train, y_train)\n",
    "\n",
    "print(\"Random Forest Using log_loss: \", rf1.score(X_test, y_test))\n",
    "print(\"Random Forest Using gini: \", rf2.score(X_test, y_test))\n",
    "print(\"Random Forest Using entropy: \", rf3.score(X_test, y_test))\n",
    "print(\"Using Decision Tree: \", decision_tree.score(X_test, y_test))\n"
   ]
  },
  {
   "cell_type": "code",
   "execution_count": 10,
   "metadata": {},
   "outputs": [
    {
     "name": "stdout",
     "output_type": "stream",
     "text": [
      "Random Forest Using log_loss:  0.7724358974358975\n",
      "Random Forest Using gini:  0.7387820512820513\n",
      "Random Forest Using entropy:  0.782051282051282\n",
      "Using Decision Tree:  0.7339743589743589\n"
     ]
    }
   ],
   "source": [
    "print(\"Random Forest Using log_loss: \", rf1.score(X_test2, y_test2))\n",
    "print(\"Random Forest Using gini: \", rf2.score(X_test2, y_test2))\n",
    "print(\"Random Forest Using entropy: \", rf3.score(X_test2, y_test2))\n",
    "print(\"Using Decision Tree: \", decision_tree.score(X_test2, y_test2))"
   ]
  },
  {
   "cell_type": "code",
   "execution_count": null,
   "metadata": {},
   "outputs": [],
   "source": []
  },
  {
   "cell_type": "code",
   "execution_count": null,
   "metadata": {},
   "outputs": [],
   "source": []
  }
 ],
 "metadata": {
  "kernelspec": {
   "display_name": "Python 3",
   "language": "python",
   "name": "python3"
  },
  "language_info": {
   "codemirror_mode": {
    "name": "ipython",
    "version": 3
   },
   "file_extension": ".py",
   "mimetype": "text/x-python",
   "name": "python",
   "nbconvert_exporter": "python",
   "pygments_lexer": "ipython3",
   "version": "3.12.4"
  }
 },
 "nbformat": 4,
 "nbformat_minor": 2
}
