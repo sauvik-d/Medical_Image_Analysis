{
 "cells": [
  {
   "cell_type": "code",
   "execution_count": 3,
   "metadata": {
    "id": "BlTHEc7x68XI"
   },
   "outputs": [],
   "source": [
    "import torch\n",
    "import torch.nn as nn\n",
    "import torch.optim as optim\n",
    "from torch.utils.data import DataLoader\n",
    "from torchvision import datasets, transforms\n",
    "from sklearn.metrics import classification_report, precision_score, recall_score, f1_score, accuracy_score, confusion_matrix, ConfusionMatrixDisplay, roc_curve, roc_auc_score\n",
    "import matplotlib.pyplot as plt\n",
    "import os"
   ]
  },
  {
   "cell_type": "code",
   "execution_count": 4,
   "metadata": {},
   "outputs": [],
   "source": [
    "import time\n",
    "def _time(start, end): \n",
    "    # if in seconds \n",
    "    if (end-start)<60: \n",
    "        wall_time = f'{round((end-start),2)}sec'\n",
    "    # if in minute(s)  \n",
    "    elif (end-start)>=3600: \n",
    "        wall_time = f'{int((end-start)/3600)}h {int(((end-start)%3600)/60)}min {round((end-start)%60,2)}sec'\n",
    "    # if in houre(s)  \n",
    "    else: \n",
    "        wall_time = f'{int((end-start)/60)}min {round((end-start)%60,2)}sec'\n",
    "    return wall_time"
   ]
  },
  {
   "cell_type": "code",
   "execution_count": 5,
   "metadata": {},
   "outputs": [],
   "source": [
    "data_dir = \"D:/github/archive/chest_xray/chest_xray\"\n",
    "batch_size = 32\n",
    "image_size = 128  # or 256\n",
    "\n",
    "# Transform with resizing and normalization\n",
    "data_transforms = {\n",
    "    'train': transforms.Compose([\n",
    "        transforms.Resize((image_size, image_size)),\n",
    "        transforms.Grayscale(num_output_channels=1),\n",
    "        transforms.ToTensor(),\n",
    "        transforms.Normalize([0.5], [0.5])\n",
    "    ]),\n",
    "    'val': transforms.Compose([\n",
    "        transforms.Resize((image_size, image_size)),\n",
    "        transforms.Grayscale(num_output_channels=1),\n",
    "        transforms.ToTensor(),\n",
    "        transforms.Normalize([0.5], [0.5])\n",
    "    ]),\n",
    "    'test': transforms.Compose([\n",
    "        transforms.Resize((image_size, image_size)),\n",
    "        transforms.Grayscale(num_output_channels=1),\n",
    "        transforms.ToTensor(),\n",
    "        transforms.Normalize([0.5], [0.5])\n",
    "    ])\n",
    "}\n"
   ]
  },
  {
   "cell_type": "code",
   "execution_count": 6,
   "metadata": {},
   "outputs": [],
   "source": [
    "datasets_dict = {x: datasets.ImageFolder(os.path.join(data_dir, x), transform=data_transforms[x])\n",
    "                 for x in ['train', 'val', 'test']}\n",
    "\n",
    "dataloaders = {x: DataLoader(datasets_dict[x], batch_size=batch_size, shuffle=True)\n",
    "               for x in ['train', 'val', 'test']}\n",
    "\n",
    "class_names = datasets_dict['train'].classes"
   ]
  },
  {
   "cell_type": "code",
   "execution_count": 7,
   "metadata": {
    "id": "j9H-DzJc7HRq"
   },
   "outputs": [],
   "source": [
    "class ANN(nn.Module):\n",
    "    def __init__(self):\n",
    "        super(ANN, self).__init__()\n",
    "        self.fc = nn.Sequential(\n",
    "            nn.Flatten(),\n",
    "            nn.Linear(128*128, 512),\n",
    "            nn.ReLU(),\n",
    "            nn.Dropout(0.3),\n",
    "            nn.Linear(512, 128),\n",
    "            nn.ReLU(),\n",
    "            nn.Dropout(0.3),\n",
    "            nn.Linear(128, 2)\n",
    "        )\n",
    "\n",
    "    def forward(self, x):\n",
    "        return self.fc(x)\n"
   ]
  },
  {
   "cell_type": "code",
   "execution_count": 8,
   "metadata": {
    "id": "1PM8hcDP7H6i"
   },
   "outputs": [],
   "source": [
    "device = torch.device(\"cuda\" if torch.cuda.is_available() else \"cpu\")\n",
    "\n",
    "model = ANN().to(device)\n",
    "criterion = nn.CrossEntropyLoss()\n",
    "optimizer = optim.Adam(model.parameters(), lr=0.001)\n"
   ]
  },
  {
   "cell_type": "code",
   "execution_count": 9,
   "metadata": {
    "colab": {
     "base_uri": "https://localhost:8080/"
    },
    "id": "o3ffl7Ek7Ocm",
    "outputId": "f938a50e-c3ea-4835-c557-f29aed69e2af"
   },
   "outputs": [
    {
     "name": "stdout",
     "output_type": "stream",
     "text": [
      "Epoch 1, Loss: 39.5466, Accuracy: 90.82%\n",
      "Hey! the calculations are done in 1min 34.9sec\n",
      "Epoch 2, Loss: 24.5977, Accuracy: 94.31%\n",
      "Hey! the calculations are done in 57.22sec\n",
      "Epoch 3, Loss: 20.6844, Accuracy: 95.55%\n",
      "Hey! the calculations are done in 57.4sec\n",
      "Epoch 4, Loss: 18.1085, Accuracy: 96.11%\n",
      "Hey! the calculations are done in 57.68sec\n",
      "Epoch 5, Loss: 16.8573, Accuracy: 95.97%\n",
      "Hey! the calculations are done in 58.11sec\n",
      "Epoch 6, Loss: 16.7309, Accuracy: 96.61%\n",
      "Hey! the calculations are done in 57.78sec\n",
      "Epoch 7, Loss: 14.6300, Accuracy: 96.89%\n",
      "Hey! the calculations are done in 57.19sec\n",
      "Epoch 8, Loss: 14.0100, Accuracy: 96.84%\n",
      "Hey! the calculations are done in 58.77sec\n",
      "Epoch 9, Loss: 13.5410, Accuracy: 96.80%\n",
      "Hey! the calculations are done in 58.69sec\n",
      "Epoch 10, Loss: 12.7336, Accuracy: 97.30%\n",
      "Hey! the calculations are done in 58.26sec\n",
      "Epoch 11, Loss: 10.6040, Accuracy: 97.64%\n",
      "Hey! the calculations are done in 56.98sec\n",
      "Epoch 12, Loss: 11.4137, Accuracy: 97.26%\n",
      "Hey! the calculations are done in 56.36sec\n",
      "Epoch 13, Loss: 10.3916, Accuracy: 97.55%\n",
      "Hey! the calculations are done in 57.19sec\n",
      "Epoch 14, Loss: 9.3330, Accuracy: 97.85%\n",
      "Hey! the calculations are done in 58.42sec\n",
      "Epoch 15, Loss: 10.5727, Accuracy: 97.37%\n",
      "Hey! the calculations are done in 58.21sec\n",
      "Epoch 16, Loss: 9.2757, Accuracy: 97.83%\n",
      "Hey! the calculations are done in 58.85sec\n",
      "Epoch 17, Loss: 8.0895, Accuracy: 98.24%\n",
      "Hey! the calculations are done in 57.55sec\n",
      "Epoch 18, Loss: 8.7513, Accuracy: 98.03%\n",
      "Hey! the calculations are done in 56.84sec\n",
      "Epoch 19, Loss: 8.0657, Accuracy: 97.93%\n",
      "Hey! the calculations are done in 56.75sec\n",
      "Epoch 20, Loss: 6.9923, Accuracy: 98.54%\n",
      "Hey! the calculations are done in 56.7sec\n",
      "Epoch 21, Loss: 7.4162, Accuracy: 98.47%\n",
      "Hey! the calculations are done in 56.83sec\n",
      "Epoch 22, Loss: 6.7900, Accuracy: 98.37%\n",
      "Hey! the calculations are done in 57.24sec\n",
      "Epoch 23, Loss: 6.4765, Accuracy: 98.66%\n",
      "Hey! the calculations are done in 57.02sec\n",
      "Epoch 24, Loss: 9.2448, Accuracy: 98.04%\n",
      "Hey! the calculations are done in 56.58sec\n",
      "Epoch 25, Loss: 6.8527, Accuracy: 98.64%\n",
      "Hey! the calculations are done in 57.03sec\n",
      "Epoch 26, Loss: 6.8098, Accuracy: 98.60%\n",
      "Hey! the calculations are done in 56.64sec\n",
      "Epoch 27, Loss: 6.0845, Accuracy: 98.75%\n",
      "Hey! the calculations are done in 56.63sec\n",
      "Epoch 28, Loss: 4.9504, Accuracy: 99.02%\n",
      "Hey! the calculations are done in 56.85sec\n",
      "Epoch 29, Loss: 4.9662, Accuracy: 98.96%\n",
      "Hey! the calculations are done in 56.68sec\n",
      "Epoch 30, Loss: 6.3013, Accuracy: 98.72%\n",
      "Hey! the calculations are done in 56.63sec\n",
      "Epoch 31, Loss: 7.1730, Accuracy: 98.56%\n",
      "Hey! the calculations are done in 56.37sec\n",
      "Epoch 32, Loss: 5.1871, Accuracy: 98.91%\n",
      "Hey! the calculations are done in 56.67sec\n",
      "Epoch 33, Loss: 3.8857, Accuracy: 99.21%\n",
      "Hey! the calculations are done in 56.55sec\n",
      "Epoch 34, Loss: 7.9565, Accuracy: 98.52%\n",
      "Hey! the calculations are done in 56.5sec\n",
      "Epoch 35, Loss: 5.6039, Accuracy: 98.91%\n",
      "Hey! the calculations are done in 56.54sec\n",
      "Epoch 36, Loss: 5.2707, Accuracy: 98.91%\n",
      "Hey! the calculations are done in 56.61sec\n",
      "Epoch 37, Loss: 4.6849, Accuracy: 98.91%\n",
      "Hey! the calculations are done in 56.5sec\n",
      "Epoch 38, Loss: 2.5555, Accuracy: 99.46%\n",
      "Hey! the calculations are done in 56.64sec\n",
      "Epoch 39, Loss: 5.3213, Accuracy: 98.95%\n",
      "Hey! the calculations are done in 57.04sec\n",
      "Epoch 40, Loss: 7.0183, Accuracy: 98.56%\n",
      "Hey! the calculations are done in 56.75sec\n",
      "Epoch 41, Loss: 5.2627, Accuracy: 98.93%\n",
      "Hey! the calculations are done in 56.84sec\n",
      "Epoch 42, Loss: 3.4480, Accuracy: 99.31%\n",
      "Hey! the calculations are done in 56.47sec\n",
      "Epoch 43, Loss: 4.3723, Accuracy: 99.10%\n",
      "Hey! the calculations are done in 56.65sec\n",
      "Epoch 44, Loss: 3.8842, Accuracy: 99.18%\n",
      "Hey! the calculations are done in 56.23sec\n",
      "Epoch 45, Loss: 6.5145, Accuracy: 98.58%\n",
      "Hey! the calculations are done in 56.83sec\n",
      "Epoch 46, Loss: 5.1821, Accuracy: 98.93%\n",
      "Hey! the calculations are done in 56.56sec\n",
      "Epoch 47, Loss: 2.9037, Accuracy: 99.39%\n",
      "Hey! the calculations are done in 56.96sec\n",
      "Epoch 48, Loss: 3.7815, Accuracy: 99.16%\n",
      "Hey! the calculations are done in 56.48sec\n",
      "Epoch 49, Loss: 3.7349, Accuracy: 99.16%\n",
      "Hey! the calculations are done in 56.74sec\n",
      "Epoch 50, Loss: 3.8637, Accuracy: 99.25%\n",
      "Hey! the calculations are done in 56.8sec\n"
     ]
    }
   ],
   "source": [
    "loss_train = []\n",
    "acc_train = []\n",
    "for epoch in range(50):\n",
    "    model.train()\n",
    "    running_loss = 0.0\n",
    "    correct = 0\n",
    "    total = 0\n",
    "    \n",
    "    start = time.time()\n",
    "    temp_loss = 0\n",
    "    for inputs, labels in dataloaders['train']:\n",
    "        inputs, labels = inputs.to(device), labels.to(device)\n",
    "        \n",
    "        optimizer.zero_grad()\n",
    "        outputs = model(inputs)\n",
    "        loss = criterion(outputs, labels)\n",
    "        loss.backward()\n",
    "        optimizer.step()\n",
    "        temp_loss = loss.detach().cpu().item()\n",
    "        running_loss += loss.item()\n",
    "        _, preds = torch.max(outputs, 1)\n",
    "        correct += (preds == labels).sum().item()\n",
    "        total += labels.size(0)\n",
    "\n",
    "    acc = 100 * correct / total\n",
    "    acc_train.append(acc)\n",
    "    loss_train.append(temp_loss)\n",
    "    print(f\"Epoch {epoch+1}, Loss: {running_loss:.4f}, Accuracy: {acc:.2f}%\")\n",
    "    print(f\"Hey! the calculations are done in {_time(start, time.time())}\")\n"
   ]
  },
  {
   "cell_type": "code",
   "execution_count": 10,
   "metadata": {
    "id": "tt7eBAF67SNO"
   },
   "outputs": [
    {
     "name": "stdout",
     "output_type": "stream",
     "text": [
      "Test Accuracy: 75.48%\n",
      "Hey! the calculations are done in 10.28sec\n"
     ]
    }
   ],
   "source": [
    "correct = 0\n",
    "total = 0\n",
    "start = time.time()\n",
    "loss_test = []\n",
    "all_labels = []\n",
    "all_preds = []\n",
    "all_probs = []\n",
    "\n",
    "\n",
    "with torch.no_grad():\n",
    "    for inputs, labels in dataloaders['test']:\n",
    "        inputs, labels = inputs.to(device), labels.to(device)\n",
    "        outputs = model(inputs)\n",
    "        loss = criterion(outputs, labels)\n",
    "        loss_test.append(loss.detach().cpu().item())\n",
    "        _, preds = torch.max(outputs, 1)\n",
    "        correct += (preds == labels).sum().item()\n",
    "        total += labels.size(0)\n",
    "        all_labels.extend(labels.cpu().numpy())\n",
    "        all_preds.extend(preds.cpu().numpy())\n",
    "\n",
    "        # Store probabilities for ROC-AUC curve (assuming binary classification)\n",
    "        all_probs.extend(torch.nn.functional.softmax(outputs, dim=1)[:, 1].cpu().numpy())\n",
    "\n",
    "print(f\"Test Accuracy: {100 * correct / total:.2f}%\")\n",
    "print(f\"Hey! the calculations are done in {_time(start, time.time())}\")"
   ]
  },
  {
   "cell_type": "code",
   "execution_count": 11,
   "metadata": {},
   "outputs": [
    {
     "name": "stdout",
     "output_type": "stream",
     "text": [
      "Precision: 0.8239\n",
      "Recall: 0.7548\n",
      "F1-score: 0.7154\n"
     ]
    },
    {
     "data": {
      "image/png": "[encoded data removed]",
      "text/plain": [
       "<Figure size 640x480 with 1 Axes>"
      ]
     },
     "metadata": {},
     "output_type": "display_data"
    },
    {
     "name": "stdout",
     "output_type": "stream",
     "text": [
      "ROC-AUC Score: 0.8296\n"
     ]
    }
   ],
   "source": [
    "\n",
    "# Compute Precision, Recall, F1-score\n",
    "precision = precision_score(all_labels, all_preds, average='weighted')\n",
    "recall = recall_score(all_labels, all_preds, average='weighted')\n",
    "f1 = f1_score(all_labels, all_preds, average='weighted')\n",
    "\n",
    "print(f\"Precision: {precision:.4f}\")\n",
    "print(f\"Recall: {recall:.4f}\")\n",
    "print(f\"F1-score: {f1:.4f}\")\n",
    "\n",
    "# Compute ROC-AUC Curve\n",
    "fpr, tpr, _ = roc_curve(all_labels, all_probs)\n",
    "roc_auc = roc_auc_score(all_labels, all_probs)\n",
    "\n",
    "# Plot ROC Curve\n",
    "plt.figure()\n",
    "plt.plot(fpr, tpr, label=f'ROC curve (area = {roc_auc:.4f})')\n",
    "plt.plot([0, 1], [0, 1], 'k--')  # Diagonal line\n",
    "plt.xlabel('False Positive Rate')\n",
    "plt.ylabel('True Positive Rate')\n",
    "plt.title('ROC Curve')\n",
    "plt.legend(loc=\"lower right\")\n",
    "plt.show()\n",
    "\n",
    "print(f\"ROC-AUC Score: {roc_auc:.4f}\")"
   ]
  },
  {
   "cell_type": "code",
   "execution_count": 12,
   "metadata": {
    "id": "Qodr1G9J8NkR"
   },
   "outputs": [
    {
     "data": {
      "text/plain": [
       "<sklearn.metrics._plot.confusion_matrix.ConfusionMatrixDisplay at 0x1ce1d8115b0>"
      ]
     },
     "execution_count": 12,
     "metadata": {},
     "output_type": "execute_result"
    },
    {
     "data": {
      "image/png": "[encoded data removed]",
      "text/plain": [
       "<Figure size 640x480 with 2 Axes>"
      ]
     },
     "metadata": {},
     "output_type": "display_data"
    }
   ],
   "source": [
    "Categories = ['Normal', 'Pneumonia']\n",
    "cm = confusion_matrix(all_labels, all_preds)\n",
    "ConfusionMatrixDisplay(confusion_matrix=cm, display_labels=Categories).plot()"
   ]
  },
  {
   "cell_type": "code",
   "execution_count": null,
   "metadata": {
    "id": "nPoX52qDS4Nz"
   },
   "outputs": [],
   "source": []
  }
 ],
 "metadata": {
  "accelerator": "GPU",
  "colab": {
   "gpuType": "T4",
   "provenance": []
  },
  "kernelspec": {
   "display_name": "Python 3 (ipykernel)",
   "language": "python",
   "name": "python3"
  },
  "language_info": {
   "codemirror_mode": {
    "name": "ipython",
    "version": 3
   },
   "file_extension": ".py",
   "mimetype": "text/x-python",
   "name": "python",
   "nbconvert_exporter": "python",
   "pygments_lexer": "ipython3",
   "version": "3.12.4"
  }
 },
 "nbformat": 4,
 "nbformat_minor": 4
}
