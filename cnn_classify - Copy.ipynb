{
 "cells": [
  {
   "cell_type": "code",
   "execution_count": 1,
   "id": "31c5821b-abd3-489d-8908-300d58eb554a",
   "metadata": {},
   "outputs": [],
   "source": [
    "import time"
   ]
  },
  {
   "cell_type": "code",
   "execution_count": 2,
   "id": "0af28d0f-226a-4b9b-bb13-917c406ea7fe",
   "metadata": {},
   "outputs": [],
   "source": [
    "import os\n",
    "import torch\n",
    "import torch.nn as nn\n",
    "import torch.optim as optim\n",
    "from torchvision import datasets, transforms, models\n",
    "from torch.utils.data import DataLoader"
   ]
  },
  {
   "cell_type": "code",
   "execution_count": 3,
   "id": "c48f73a8-0b79-48fe-957c-375cfd366378",
   "metadata": {},
   "outputs": [],
   "source": [
    "data_dir = \"D:/github/archive/chest_xray\"\n",
    "batch_size = 32\n",
    "image_size = 128  # or 256\n",
    "\n",
    "# Transform with resizing and normalization\n",
    "data_transforms = {\n",
    "    'train': transforms.Compose([\n",
    "        transforms.Resize((image_size, image_size)),\n",
    "        transforms.Grayscale(num_output_channels=1),\n",
    "        transforms.ToTensor(),\n",
    "        transforms.Normalize([0.5], [0.5])\n",
    "    ]),\n",
    "    'val': transforms.Compose([\n",
    "        transforms.Resize((image_size, image_size)),\n",
    "        transforms.Grayscale(num_output_channels=1),\n",
    "        transforms.ToTensor(),\n",
    "        transforms.Normalize([0.5], [0.5])\n",
    "    ]),\n",
    "    'test': transforms.Compose([\n",
    "        transforms.Resize((image_size, image_size)),\n",
    "        transforms.Grayscale(num_output_channels=1),\n",
    "        transforms.ToTensor(),\n",
    "        transforms.Normalize([0.5], [0.5])\n",
    "    ])\n",
    "}\n"
   ]
  },
  {
   "cell_type": "code",
   "execution_count": 4,
   "id": "2995fd51-910a-4897-bf30-336ab8b8f5d7",
   "metadata": {},
   "outputs": [],
   "source": [
    "def _time(start, end): \n",
    "    # if in seconds \n",
    "    if (end-start)<60: \n",
    "        wall_time = f'{round((end-start),2)}sec'\n",
    "    # if in minute(s)  \n",
    "    elif (end-start)>=3600: \n",
    "        wall_time = f'{int((end-start)/3600)}h {int(((end-start)%3600)/60)}min {round((end-start)%60,2)}sec'\n",
    "    # if in houre(s)  \n",
    "    else: \n",
    "        wall_time = f'{int((end-start)/60)}min {round((end-start)%60,2)}sec'\n",
    "    return wall_time"
   ]
  },
  {
   "cell_type": "code",
   "execution_count": 5,
   "id": "07861f6a-c57a-4a7e-ba55-57df989f63f4",
   "metadata": {},
   "outputs": [],
   "source": [
    "datasets_dict = {x: datasets.ImageFolder(os.path.join(data_dir, x), transform=data_transforms[x])\n",
    "                 for x in ['train', 'val', 'test']}\n",
    "\n",
    "dataloaders = {x: DataLoader(datasets_dict[x], batch_size=batch_size, shuffle=True)\n",
    "               for x in ['train', 'val', 'test']}\n",
    "\n",
    "class_names = datasets_dict['train'].classes"
   ]
  },
  {
   "cell_type": "code",
   "execution_count": 6,
   "id": "763caa5a-a44b-4653-9bd1-9a02d94dca6f",
   "metadata": {},
   "outputs": [
    {
     "name": "stdout",
     "output_type": "stream",
     "text": [
      "torch.Size([1, 128, 128])\n"
     ]
    }
   ],
   "source": [
    "sample, label = datasets_dict['train'][2000]\n",
    "print(sample.shape)"
   ]
  },
  {
   "cell_type": "code",
   "execution_count": 7,
   "id": "911c6edc-7d39-41d6-abd6-894650782df7",
   "metadata": {},
   "outputs": [],
   "source": [
    "class CNN(nn.Module):\n",
    "    def __init__(self, input_features):  # 1 for grayscale, 3 for RGB\n",
    "        super().__init__()\n",
    "\n",
    "        self.features = nn.Sequential(\n",
    "            nn.Conv2d(input_features, 32, kernel_size=3, padding='same'),\n",
    "            nn.ReLU(),\n",
    "            nn.BatchNorm2d(32),\n",
    "            nn.MaxPool2d(kernel_size=2, stride=2),  # 128 -> 64\n",
    "            \n",
    "            nn.Conv2d(32, 64, kernel_size=3, padding='same'),\n",
    "            nn.ReLU(),\n",
    "            nn.BatchNorm2d(64),\n",
    "            nn.MaxPool2d(kernel_size=2, stride=2),  # 64 -> 32\n",
    "\n",
    "            nn.Conv2d(64, 64, kernel_size=3, padding='same'),\n",
    "            nn.ReLU(),\n",
    "            nn.BatchNorm2d(64),\n",
    "            nn.MaxPool2d(kernel_size=2, stride=2),  # 64 -> 32\n",
    "\n",
    "            \n",
    "        )\n",
    "        self.classifier = nn.Sequential(\n",
    "            nn.Flatten(),\n",
    "            nn.Linear(64 * 16 * 16, 128),  \n",
    "            nn.ReLU(),\n",
    "            nn.Dropout(p=0.4),\n",
    "\n",
    "            nn.Linear(128, 64),\n",
    "            nn.ReLU(),\n",
    "            nn.Dropout(p=0.4),\n",
    "            \n",
    "            nn.Linear(64, 2)  # Assuming 2 classes: normal and pneumonia\n",
    "        )\n",
    "\n",
    "    def forward(self, x):\n",
    "        x = self.features(x)\n",
    "        x = self.classifier(x)\n",
    "        return x\n"
   ]
  },
  {
   "cell_type": "code",
   "execution_count": 8,
   "id": "d821f711-37f8-4ee5-9d69-2ba0fd85cd98",
   "metadata": {},
   "outputs": [
    {
     "data": {
      "text/plain": [
       "True"
      ]
     },
     "execution_count": 8,
     "metadata": {},
     "output_type": "execute_result"
    }
   ],
   "source": [
    "torch.cuda.is_available()"
   ]
  },
  {
   "cell_type": "code",
   "execution_count": 9,
   "id": "7dca11c6-0be7-41b5-98b5-6743664a7e96",
   "metadata": {},
   "outputs": [],
   "source": [
    "device = torch.device('cuda' if torch.cuda.is_available() else \"cpu\")\n",
    "model = CNN(input_features=1).to(device)  # move model to GPU\n",
    "\n",
    "\n",
    "criterion = nn.CrossEntropyLoss()\n",
    "optimizer = optim.Adam(model.parameters(), lr=0.001)\n"
   ]
  },
  {
   "cell_type": "code",
   "execution_count": 10,
   "id": "644e7ed4-8f26-4d69-b9c6-ef2886eb1c78",
   "metadata": {},
   "outputs": [],
   "source": [
    "from torchinfo import summary"
   ]
  },
  {
   "cell_type": "code",
   "execution_count": 11,
   "id": "b0659f9f-ab1b-46f8-a6ca-851a81dd25ce",
   "metadata": {},
   "outputs": [
    {
     "data": {
      "text/plain": [
       "==========================================================================================\n",
       "Layer (type:depth-idx)                   Output Shape              Param #\n",
       "==========================================================================================\n",
       "CNN                                      [1, 2]                    --\n",
       "├─Sequential: 1-1                        [1, 64, 16, 16]           --\n",
       "│    └─Conv2d: 2-1                       [1, 32, 128, 128]         320\n",
       "│    └─ReLU: 2-2                         [1, 32, 128, 128]         --\n",
       "│    └─BatchNorm2d: 2-3                  [1, 32, 128, 128]         64\n",
       "│    └─MaxPool2d: 2-4                    [1, 32, 64, 64]           --\n",
       "│    └─Conv2d: 2-5                       [1, 64, 64, 64]           18,496\n",
       "│    └─ReLU: 2-6                         [1, 64, 64, 64]           --\n",
       "│    └─BatchNorm2d: 2-7                  [1, 64, 64, 64]           128\n",
       "│    └─MaxPool2d: 2-8                    [1, 64, 32, 32]           --\n",
       "│    └─Conv2d: 2-9                       [1, 64, 32, 32]           36,928\n",
       "│    └─ReLU: 2-10                        [1, 64, 32, 32]           --\n",
       "│    └─BatchNorm2d: 2-11                 [1, 64, 32, 32]           128\n",
       "│    └─MaxPool2d: 2-12                   [1, 64, 16, 16]           --\n",
       "├─Sequential: 1-2                        [1, 2]                    --\n",
       "│    └─Flatten: 2-13                     [1, 16384]                --\n",
       "│    └─Linear: 2-14                      [1, 128]                  2,097,280\n",
       "│    └─ReLU: 2-15                        [1, 128]                  --\n",
       "│    └─Dropout: 2-16                     [1, 128]                  --\n",
       "│    └─Linear: 2-17                      [1, 64]                   8,256\n",
       "│    └─ReLU: 2-18                        [1, 64]                   --\n",
       "│    └─Dropout: 2-19                     [1, 64]                   --\n",
       "│    └─Linear: 2-20                      [1, 2]                    130\n",
       "==========================================================================================\n",
       "Total params: 2,161,730\n",
       "Trainable params: 2,161,730\n",
       "Non-trainable params: 0\n",
       "Total mult-adds (Units.MEGABYTES): 120.92\n",
       "==========================================================================================\n",
       "Input size (MB): 0.07\n",
       "Forward/backward pass size (MB): 13.63\n",
       "Params size (MB): 8.65\n",
       "Estimated Total Size (MB): 22.35\n",
       "=========================================================================================="
      ]
     },
     "execution_count": 11,
     "metadata": {},
     "output_type": "execute_result"
    }
   ],
   "source": [
    "summary(model, input_size=(1, 1, 128, 128))"
   ]
  },
  {
   "cell_type": "code",
   "execution_count": 17,
   "id": "fbec3e03-d849-4575-8416-34452c97d10d",
   "metadata": {},
   "outputs": [
    {
     "name": "stdout",
     "output_type": "stream",
     "text": [
      "Epoch 1, Loss: 34.4740, Accuracy: 93.53%\n",
      "Hey! the calculations are done in 2min 31.21sec\n",
      "Epoch 2, Loss: 18.2100, Accuracy: 96.62%\n",
      "Hey! the calculations are done in 1min 25.17sec\n",
      "Epoch 3, Loss: 13.4651, Accuracy: 97.39%\n",
      "Hey! the calculations are done in 1min 5.0sec\n",
      "Epoch 4, Loss: 11.7951, Accuracy: 97.89%\n",
      "Hey! the calculations are done in 1min 3.06sec\n",
      "Epoch 5, Loss: 9.5757, Accuracy: 98.26%\n",
      "Hey! the calculations are done in 1min 2.83sec\n",
      "Epoch 6, Loss: 7.4166, Accuracy: 98.71%\n",
      "Hey! the calculations are done in 1min 3.17sec\n",
      "Epoch 7, Loss: 7.2365, Accuracy: 98.70%\n",
      "Hey! the calculations are done in 1min 2.89sec\n",
      "Epoch 8, Loss: 5.9035, Accuracy: 98.97%\n",
      "Hey! the calculations are done in 1min 2.97sec\n",
      "Epoch 9, Loss: 5.5405, Accuracy: 99.02%\n",
      "Hey! the calculations are done in 1min 2.89sec\n",
      "Epoch 10, Loss: 4.5758, Accuracy: 99.08%\n",
      "Hey! the calculations are done in 1min 2.87sec\n",
      "Epoch 11, Loss: 5.6568, Accuracy: 99.12%\n",
      "Hey! the calculations are done in 1min 2.91sec\n",
      "Epoch 12, Loss: 3.5255, Accuracy: 99.34%\n",
      "Hey! the calculations are done in 1min 2.73sec\n",
      "Epoch 13, Loss: 2.1705, Accuracy: 99.52%\n",
      "Hey! the calculations are done in 1min 2.97sec\n",
      "Epoch 14, Loss: 2.1893, Accuracy: 99.66%\n",
      "Hey! the calculations are done in 1min 3.05sec\n",
      "Epoch 15, Loss: 2.7132, Accuracy: 99.50%\n",
      "Hey! the calculations are done in 1min 2.7sec\n",
      "Epoch 16, Loss: 3.1771, Accuracy: 99.47%\n",
      "Hey! the calculations are done in 1min 2.63sec\n",
      "Epoch 17, Loss: 2.1364, Accuracy: 99.76%\n",
      "Hey! the calculations are done in 1min 2.64sec\n",
      "Epoch 18, Loss: 3.4330, Accuracy: 99.40%\n",
      "Hey! the calculations are done in 1min 3.02sec\n",
      "Epoch 19, Loss: 4.1191, Accuracy: 99.32%\n",
      "Hey! the calculations are done in 1min 2.72sec\n",
      "Epoch 20, Loss: 2.5480, Accuracy: 99.63%\n",
      "Hey! the calculations are done in 1min 4.7sec\n",
      "Epoch 21, Loss: 2.2853, Accuracy: 99.52%\n",
      "Hey! the calculations are done in 1min 3.04sec\n",
      "Epoch 22, Loss: 3.2656, Accuracy: 99.55%\n",
      "Hey! the calculations are done in 1min 2.72sec\n",
      "Epoch 23, Loss: 1.4596, Accuracy: 99.71%\n",
      "Hey! the calculations are done in 1min 2.6sec\n",
      "Epoch 24, Loss: 2.5542, Accuracy: 99.71%\n",
      "Hey! the calculations are done in 1min 2.94sec\n",
      "Epoch 25, Loss: 3.1563, Accuracy: 99.47%\n",
      "Hey! the calculations are done in 1min 3.82sec\n",
      "Epoch 26, Loss: 0.8399, Accuracy: 99.82%\n",
      "Hey! the calculations are done in 1min 4.37sec\n",
      "Epoch 27, Loss: 0.9978, Accuracy: 99.82%\n",
      "Hey! the calculations are done in 1min 2.96sec\n",
      "Epoch 28, Loss: 2.0060, Accuracy: 99.66%\n",
      "Hey! the calculations are done in 1min 2.49sec\n",
      "Epoch 29, Loss: 1.7378, Accuracy: 99.73%\n",
      "Hey! the calculations are done in 1min 2.76sec\n",
      "Epoch 30, Loss: 2.1050, Accuracy: 99.65%\n",
      "Hey! the calculations are done in 1min 2.67sec\n"
     ]
    }
   ],
   "source": [
    "loss_train = []\n",
    "acc_train = []\n",
    "for epoch in range(30):\n",
    "    model.train()\n",
    "    running_loss = 0.0\n",
    "    correct = 0\n",
    "    total = 0\n",
    "    \n",
    "    start = time.time()\n",
    "    temp_loss = 0\n",
    "    for inputs, labels in dataloaders['train']:\n",
    "        inputs, labels = inputs.to(device), labels.to(device)\n",
    "        \n",
    "        optimizer.zero_grad()\n",
    "        outputs = model(inputs)\n",
    "        loss = criterion(outputs, labels)\n",
    "        loss.backward()\n",
    "        optimizer.step()\n",
    "        temp_loss = loss.detach().cpu().item()\n",
    "        running_loss += loss.item()\n",
    "        _, preds = torch.max(outputs, 1)\n",
    "        correct += (preds == labels).sum().item()\n",
    "        total += labels.size(0)\n",
    "\n",
    "    acc = 100 * correct / total\n",
    "    acc_train.append(acc)\n",
    "    loss_train.append(temp_loss)\n",
    "    print(f\"Epoch {epoch+1}, Loss: {running_loss:.4f}, Accuracy: {acc:.2f}%\")\n",
    "    print(f\"Hey! the calculations are done in {_time(start, time.time())}\")\n"
   ]
  },
  {
   "cell_type": "code",
   "execution_count": 18,
   "id": "62837c05-2373-4058-91ec-d31bd496def5",
   "metadata": {},
   "outputs": [
    {
     "name": "stdout",
     "output_type": "stream",
     "text": [
      "Test Accuracy: 77.08%\n",
      "Hey! the calculations are done in 6.46sec\n"
     ]
    }
   ],
   "source": [
    "correct = 0\n",
    "total = 0\n",
    "start = time.time()\n",
    "loss_test = []\n",
    "all_labels = []\n",
    "all_preds = []\n",
    "all_probs = []\n",
    "\n",
    "\n",
    "with torch.no_grad():\n",
    "    for inputs, labels in dataloaders['test']:\n",
    "        inputs, labels = inputs.to(device), labels.to(device)\n",
    "        outputs = model(inputs)\n",
    "        loss = criterion(outputs, labels)\n",
    "        loss_test.append(loss.detach().cpu().item())\n",
    "        _, preds = torch.max(outputs, 1)\n",
    "        correct += (preds == labels).sum().item()\n",
    "        total += labels.size(0)\n",
    "        all_labels.extend(labels.cpu().numpy())\n",
    "        all_preds.extend(preds.cpu().numpy())\n",
    "\n",
    "        # Store probabilities for ROC-AUC curve (assuming binary classification)\n",
    "        all_probs.extend(torch.nn.functional.softmax(outputs, dim=1)[:, 1].cpu().numpy())\n",
    "\n",
    "print(f\"Test Accuracy: {100 * correct / total:.2f}%\")\n",
    "print(f\"Hey! the calculations are done in {_time(start, time.time())}\")"
   ]
  },
  {
   "cell_type": "code",
   "execution_count": 19,
   "id": "8584e70e-9b15-4c90-94c6-419b0a5518a6",
   "metadata": {},
   "outputs": [
    {
     "data": {
      "text/plain": [
       "CNN(\n",
       "  (features): Sequential(\n",
       "    (0): Conv2d(1, 32, kernel_size=(3, 3), stride=(1, 1), padding=same)\n",
       "    (1): ReLU()\n",
       "    (2): BatchNorm2d(32, eps=1e-05, momentum=0.1, affine=True, track_running_stats=True)\n",
       "    (3): MaxPool2d(kernel_size=2, stride=2, padding=0, dilation=1, ceil_mode=False)\n",
       "    (4): Conv2d(32, 64, kernel_size=(3, 3), stride=(1, 1), padding=same)\n",
       "    (5): ReLU()\n",
       "    (6): BatchNorm2d(64, eps=1e-05, momentum=0.1, affine=True, track_running_stats=True)\n",
       "    (7): MaxPool2d(kernel_size=2, stride=2, padding=0, dilation=1, ceil_mode=False)\n",
       "    (8): Conv2d(64, 64, kernel_size=(3, 3), stride=(1, 1), padding=same)\n",
       "    (9): ReLU()\n",
       "    (10): BatchNorm2d(64, eps=1e-05, momentum=0.1, affine=True, track_running_stats=True)\n",
       "    (11): MaxPool2d(kernel_size=2, stride=2, padding=0, dilation=1, ceil_mode=False)\n",
       "  )\n",
       "  (classifier): Sequential(\n",
       "    (0): Flatten(start_dim=1, end_dim=-1)\n",
       "    (1): Linear(in_features=16384, out_features=128, bias=True)\n",
       "    (2): ReLU()\n",
       "    (3): Dropout(p=0.4, inplace=False)\n",
       "    (4): Linear(in_features=128, out_features=64, bias=True)\n",
       "    (5): ReLU()\n",
       "    (6): Dropout(p=0.4, inplace=False)\n",
       "    (7): Linear(in_features=64, out_features=2, bias=True)\n",
       "  )\n",
       ")"
      ]
     },
     "execution_count": 19,
     "metadata": {},
     "output_type": "execute_result"
    }
   ],
   "source": [
    "model.eval()"
   ]
  },
  {
   "cell_type": "code",
   "execution_count": 20,
   "id": "364be3f1-67f7-45c7-bfbf-02196ca3edef",
   "metadata": {},
   "outputs": [],
   "source": [
    "import torch\n",
    "from sklearn.metrics import precision_score, recall_score, f1_score, roc_auc_score, roc_curve\n",
    "import matplotlib.pyplot as plt"
   ]
  },
  {
   "cell_type": "code",
   "execution_count": 21,
   "id": "684349ca-47fa-4352-b231-52eb8a2546bc",
   "metadata": {},
   "outputs": [
    {
     "name": "stdout",
     "output_type": "stream",
     "text": [
      "Precision: 0.8138\n",
      "Recall: 0.7708\n",
      "F1-score: 0.7428\n"
     ]
    },
    {
     "data": {
      "image/png": "[encoded data removed]",
      "text/plain": [
       "<Figure size 640x480 with 1 Axes>"
      ]
     },
     "metadata": {},
     "output_type": "display_data"
    },
    {
     "name": "stdout",
     "output_type": "stream",
     "text": [
      "ROC-AUC Score: 0.8323\n"
     ]
    }
   ],
   "source": [
    "\n",
    "# Compute Precision, Recall, F1-score\n",
    "precision = precision_score(all_labels, all_preds, average='weighted')\n",
    "recall = recall_score(all_labels, all_preds, average='weighted')\n",
    "f1 = f1_score(all_labels, all_preds, average='weighted')\n",
    "\n",
    "print(f\"Precision: {precision:.4f}\")\n",
    "print(f\"Recall: {recall:.4f}\")\n",
    "print(f\"F1-score: {f1:.4f}\")\n",
    "\n",
    "# Compute ROC-AUC Curve\n",
    "fpr, tpr, _ = roc_curve(all_labels, all_probs)\n",
    "roc_auc = roc_auc_score(all_labels, all_probs)\n",
    "\n",
    "# Plot ROC Curve\n",
    "plt.figure()\n",
    "plt.plot(fpr, tpr, label=f'ROC curve (area = {roc_auc:.4f})')\n",
    "plt.plot([0, 1], [0, 1], 'k--')  # Diagonal line\n",
    "plt.xlabel('False Positive Rate')\n",
    "plt.ylabel('True Positive Rate')\n",
    "plt.title('ROC Curve')\n",
    "plt.legend(loc=\"lower right\")\n",
    "plt.show()\n",
    "\n",
    "print(f\"ROC-AUC Score: {roc_auc:.4f}\")"
   ]
  },
  {
   "cell_type": "code",
   "execution_count": 22,
   "id": "99803bcb-d32e-4a1e-a146-d9f08539723e",
   "metadata": {},
   "outputs": [],
   "source": [
    "import matplotlib.pyplot as plt"
   ]
  },
  {
   "cell_type": "code",
   "execution_count": 43,
   "id": "092f54e3-06a0-4845-b736-8a8c790de989",
   "metadata": {},
   "outputs": [],
   "source": [
    "def plot_loss(loss_array):\n",
    "    plt.figure(figsize=(10,5))\n",
    "    plt.plot(loss_test, label='Test Loss')\n",
    "    plt.plot(loss_train, label='Train Loss')\n",
    "    plt.xlabel(\"Iteration\", fontsize=20); plt.ylabel(\"Loss\", fontsize=20) \n",
    "    plt.legend(); plt.show()"
   ]
  },
  {
   "cell_type": "code",
   "execution_count": 44,
   "id": "871e3511-8d45-4de3-8374-2a18a89dd82f",
   "metadata": {},
   "outputs": [
    {
     "data": {
      "image/png": "[encoded data removed]",
      "text/plain": [
       "<Figure size 1000x500 with 1 Axes>"
      ]
     },
     "metadata": {},
     "output_type": "display_data"
    }
   ],
   "source": [
    "loss_array = []\n",
    "plot_loss(loss_array)"
   ]
  },
  {
   "cell_type": "code",
   "execution_count": null,
   "id": "79684c7e-2581-48ac-aa38-f7d26e7311a9",
   "metadata": {},
   "outputs": [],
   "source": []
  }
 ],
 "metadata": {
  "kernelspec": {
   "display_name": "env1kernel",
   "language": "python",
   "name": "env1"
  },
  "language_info": {
   "codemirror_mode": {
    "name": "ipython",
    "version": 3
   },
   "file_extension": ".py",
   "mimetype": "text/x-python",
   "name": "python",
   "nbconvert_exporter": "python",
   "pygments_lexer": "ipython3",
   "version": "3.8.20"
  }
 },
 "nbformat": 4,
 "nbformat_minor": 5
}
