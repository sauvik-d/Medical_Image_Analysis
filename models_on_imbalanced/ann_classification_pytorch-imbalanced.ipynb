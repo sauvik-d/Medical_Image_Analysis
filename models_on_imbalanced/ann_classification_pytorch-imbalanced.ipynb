{
 "cells": [
  {
   "cell_type": "code",
   "execution_count": 1,
   "metadata": {
    "id": "BlTHEc7x68XI"
   },
   "outputs": [],
   "source": [
    "import torch\n",
    "import torch.nn as nn\n",
    "import torch.optim as optim\n",
    "from torch.utils.data import DataLoader\n",
    "from torchvision import datasets, transforms\n",
    "from sklearn.metrics import classification_report, precision_score, recall_score, f1_score, accuracy_score, confusion_matrix, ConfusionMatrixDisplay, roc_curve, roc_auc_score\n",
    "import matplotlib.pyplot as plt\n",
    "import os"
   ]
  },
  {
   "cell_type": "code",
   "execution_count": 2,
   "metadata": {},
   "outputs": [],
   "source": [
    "import time\n",
    "def _time(start, end): \n",
    "    # if in seconds \n",
    "    if (end-start)<60: \n",
    "        wall_time = f'{round((end-start),2)}sec'\n",
    "    # if in minute(s)  \n",
    "    elif (end-start)>=3600: \n",
    "        wall_time = f'{int((end-start)/3600)}h {int(((end-start)%3600)/60)}min {round((end-start)%60,2)}sec'\n",
    "    # if in houre(s)  \n",
    "    else: \n",
    "        wall_time = f'{int((end-start)/60)}min {round((end-start)%60,2)}sec'\n",
    "    return wall_time"
   ]
  },
  {
   "cell_type": "code",
   "execution_count": 3,
   "metadata": {},
   "outputs": [],
   "source": [
    "data_dir = \"D:/github/archive/chest_xray/chest_xray\"\n",
    "batch_size = 32\n",
    "image_size = 128  # or 256\n",
    "\n",
    "# Transform with resizing and normalization\n",
    "data_transforms = {\n",
    "    'train': transforms.Compose([\n",
    "        transforms.Resize((image_size, image_size)),\n",
    "        transforms.Grayscale(num_output_channels=1),\n",
    "        transforms.ToTensor(),\n",
    "        transforms.Normalize([0.5], [0.5])\n",
    "    ]),\n",
    "    'val': transforms.Compose([\n",
    "        transforms.Resize((image_size, image_size)),\n",
    "        transforms.Grayscale(num_output_channels=1),\n",
    "        transforms.ToTensor(),\n",
    "        transforms.Normalize([0.5], [0.5])\n",
    "    ]),\n",
    "    'test': transforms.Compose([\n",
    "        transforms.Resize((image_size, image_size)),\n",
    "        transforms.Grayscale(num_output_channels=1),\n",
    "        transforms.ToTensor(),\n",
    "        transforms.Normalize([0.5], [0.5])\n",
    "    ])\n",
    "}\n"
   ]
  },
  {
   "cell_type": "code",
   "execution_count": 4,
   "metadata": {},
   "outputs": [],
   "source": [
    "datasets_dict = {x: datasets.ImageFolder(os.path.join(data_dir, x), transform=data_transforms[x])\n",
    "                 for x in ['train', 'val', 'test']}\n",
    "\n",
    "dataloaders = {x: DataLoader(datasets_dict[x], batch_size=batch_size, shuffle=True)\n",
    "               for x in ['train', 'val', 'test']}\n",
    "\n",
    "class_names = datasets_dict['train'].classes"
   ]
  },
  {
   "cell_type": "code",
   "execution_count": 5,
   "metadata": {
    "id": "j9H-DzJc7HRq"
   },
   "outputs": [],
   "source": [
    "class ANN(nn.Module):\n",
    "    def __init__(self):\n",
    "        super(ANN, self).__init__()\n",
    "        self.fc = nn.Sequential(\n",
    "            nn.Flatten(),\n",
    "            nn.Linear(128*128, 512),\n",
    "            nn.ReLU(),\n",
    "            nn.Dropout(0.3),\n",
    "            nn.Linear(512, 128),\n",
    "            nn.ReLU(),\n",
    "            nn.Dropout(0.3),\n",
    "            nn.Linear(128, 2)\n",
    "        )\n",
    "\n",
    "    def forward(self, x):\n",
    "        return self.fc(x)\n"
   ]
  },
  {
   "cell_type": "code",
   "execution_count": 6,
   "metadata": {
    "id": "1PM8hcDP7H6i"
   },
   "outputs": [],
   "source": [
    "device = torch.device(\"cuda\" if torch.cuda.is_available() else \"cpu\")\n",
    "\n",
    "model = ANN().to(device)\n",
    "criterion = nn.CrossEntropyLoss()\n",
    "optimizer = optim.Adam(model.parameters(), lr=0.001)\n"
   ]
  },
  {
   "cell_type": "code",
   "execution_count": 7,
   "metadata": {
    "colab": {
     "base_uri": "https://localhost:8080/"
    },
    "id": "o3ffl7Ek7Ocm",
    "outputId": "f938a50e-c3ea-4835-c557-f29aed69e2af"
   },
   "outputs": [
    {
     "name": "stdout",
     "output_type": "stream",
     "text": [
      "Epoch 1, Loss: 41.1691, Accuracy: 90.55%\n",
      "Hey! the calculations are done in 1min 14.96sec\n",
      "Epoch 2, Loss: 23.0521, Accuracy: 94.40%\n",
      "Hey! the calculations are done in 49.6sec\n",
      "Epoch 3, Loss: 22.1466, Accuracy: 95.00%\n",
      "Hey! the calculations are done in 49.27sec\n",
      "Epoch 4, Loss: 18.7709, Accuracy: 95.72%\n",
      "Hey! the calculations are done in 49.41sec\n",
      "Epoch 5, Loss: 17.2875, Accuracy: 96.17%\n",
      "Hey! the calculations are done in 49.43sec\n",
      "Epoch 6, Loss: 16.0749, Accuracy: 96.41%\n",
      "Hey! the calculations are done in 49.11sec\n",
      "Epoch 7, Loss: 14.9893, Accuracy: 96.49%\n",
      "Hey! the calculations are done in 49.47sec\n",
      "Epoch 8, Loss: 14.7304, Accuracy: 96.80%\n",
      "Hey! the calculations are done in 49.4sec\n",
      "Epoch 9, Loss: 12.8026, Accuracy: 97.39%\n",
      "Hey! the calculations are done in 49.23sec\n",
      "Epoch 10, Loss: 12.4596, Accuracy: 96.97%\n",
      "Hey! the calculations are done in 49.34sec\n",
      "Epoch 11, Loss: 11.3518, Accuracy: 97.51%\n",
      "Hey! the calculations are done in 49.19sec\n",
      "Epoch 12, Loss: 11.0833, Accuracy: 97.53%\n",
      "Hey! the calculations are done in 49.11sec\n",
      "Epoch 13, Loss: 11.0827, Accuracy: 97.51%\n",
      "Hey! the calculations are done in 49.6sec\n",
      "Epoch 14, Loss: 10.6830, Accuracy: 97.55%\n",
      "Hey! the calculations are done in 54.57sec\n",
      "Epoch 15, Loss: 11.3379, Accuracy: 97.55%\n",
      "Hey! the calculations are done in 1min 9.97sec\n",
      "Epoch 16, Loss: 9.1650, Accuracy: 97.93%\n",
      "Hey! the calculations are done in 1min 12.74sec\n",
      "Epoch 17, Loss: 9.5063, Accuracy: 97.93%\n",
      "Hey! the calculations are done in 1min 10.16sec\n",
      "Epoch 18, Loss: 8.2604, Accuracy: 98.04%\n",
      "Hey! the calculations are done in 1min 10.9sec\n",
      "Epoch 19, Loss: 8.8991, Accuracy: 98.16%\n",
      "Hey! the calculations are done in 1min 10.99sec\n",
      "Epoch 20, Loss: 7.0144, Accuracy: 98.49%\n",
      "Hey! the calculations are done in 1min 10.29sec\n",
      "Epoch 21, Loss: 7.2760, Accuracy: 98.56%\n",
      "Hey! the calculations are done in 1min 10.64sec\n",
      "Epoch 22, Loss: 6.8097, Accuracy: 98.45%\n",
      "Hey! the calculations are done in 1min 11.6sec\n",
      "Epoch 23, Loss: 7.1492, Accuracy: 98.26%\n",
      "Hey! the calculations are done in 1min 10.43sec\n",
      "Epoch 24, Loss: 7.4569, Accuracy: 98.33%\n",
      "Hey! the calculations are done in 1min 10.68sec\n",
      "Epoch 25, Loss: 6.8499, Accuracy: 98.54%\n",
      "Hey! the calculations are done in 1min 10.65sec\n",
      "Epoch 26, Loss: 6.6664, Accuracy: 98.47%\n",
      "Hey! the calculations are done in 1min 10.41sec\n",
      "Epoch 27, Loss: 6.4329, Accuracy: 98.45%\n",
      "Hey! the calculations are done in 1min 10.36sec\n",
      "Epoch 28, Loss: 8.0461, Accuracy: 98.37%\n",
      "Hey! the calculations are done in 1min 11.25sec\n",
      "Epoch 29, Loss: 6.6205, Accuracy: 98.49%\n",
      "Hey! the calculations are done in 1min 11.0sec\n",
      "Epoch 30, Loss: 5.7832, Accuracy: 98.75%\n",
      "Hey! the calculations are done in 1min 10.02sec\n",
      "Epoch 31, Loss: 5.7052, Accuracy: 98.68%\n",
      "Hey! the calculations are done in 1min 9.78sec\n",
      "Epoch 32, Loss: 4.2992, Accuracy: 99.06%\n",
      "Hey! the calculations are done in 1min 10.65sec\n",
      "Epoch 33, Loss: 6.9637, Accuracy: 98.37%\n",
      "Hey! the calculations are done in 1min 11.03sec\n",
      "Epoch 34, Loss: 7.0343, Accuracy: 98.56%\n",
      "Hey! the calculations are done in 1min 11.51sec\n",
      "Epoch 35, Loss: 5.2276, Accuracy: 98.83%\n",
      "Hey! the calculations are done in 1min 13.76sec\n",
      "Epoch 36, Loss: 4.2845, Accuracy: 99.04%\n",
      "Hey! the calculations are done in 1min 15.92sec\n",
      "Epoch 37, Loss: 5.4973, Accuracy: 98.75%\n",
      "Hey! the calculations are done in 1min 10.14sec\n",
      "Epoch 38, Loss: 6.2475, Accuracy: 98.75%\n",
      "Hey! the calculations are done in 1min 11.57sec\n",
      "Epoch 39, Loss: 5.2051, Accuracy: 98.79%\n",
      "Hey! the calculations are done in 1min 10.98sec\n",
      "Epoch 40, Loss: 5.2530, Accuracy: 98.98%\n",
      "Hey! the calculations are done in 1min 10.47sec\n",
      "Epoch 41, Loss: 4.9641, Accuracy: 99.00%\n",
      "Hey! the calculations are done in 1min 10.48sec\n",
      "Epoch 42, Loss: 4.3952, Accuracy: 99.02%\n",
      "Hey! the calculations are done in 1min 10.59sec\n",
      "Epoch 43, Loss: 4.7308, Accuracy: 98.85%\n",
      "Hey! the calculations are done in 1min 11.14sec\n",
      "Epoch 44, Loss: 3.7145, Accuracy: 99.04%\n",
      "Hey! the calculations are done in 1min 10.44sec\n",
      "Epoch 45, Loss: 4.3675, Accuracy: 99.18%\n",
      "Hey! the calculations are done in 1min 10.82sec\n",
      "Epoch 46, Loss: 5.0121, Accuracy: 99.02%\n",
      "Hey! the calculations are done in 1min 10.18sec\n",
      "Epoch 47, Loss: 6.6503, Accuracy: 98.49%\n",
      "Hey! the calculations are done in 1min 10.55sec\n",
      "Epoch 48, Loss: 4.0426, Accuracy: 99.02%\n",
      "Hey! the calculations are done in 1min 10.81sec\n",
      "Epoch 49, Loss: 2.8453, Accuracy: 99.37%\n",
      "Hey! the calculations are done in 1min 10.18sec\n",
      "Epoch 50, Loss: 3.7700, Accuracy: 99.31%\n",
      "Hey! the calculations are done in 1min 10.74sec\n"
     ]
    }
   ],
   "source": [
    "loss_train = []\n",
    "acc_train = []\n",
    "for epoch in range(50):\n",
    "    model.train()\n",
    "    running_loss = 0.0\n",
    "    correct = 0\n",
    "    total = 0\n",
    "    \n",
    "    start = time.time()\n",
    "    temp_loss = 0\n",
    "    for inputs, labels in dataloaders['train']:\n",
    "        inputs, labels = inputs.to(device), labels.to(device)\n",
    "        \n",
    "        optimizer.zero_grad()\n",
    "        outputs = model(inputs)\n",
    "        loss = criterion(outputs, labels)\n",
    "        loss.backward()\n",
    "        optimizer.step()\n",
    "        temp_loss = loss.detach().cpu().item()\n",
    "        running_loss += loss.item()\n",
    "        _, preds = torch.max(outputs, 1)\n",
    "        correct += (preds == labels).sum().item()\n",
    "        total += labels.size(0)\n",
    "\n",
    "    acc = 100 * correct / total\n",
    "    acc_train.append(acc)\n",
    "    loss_train.append(temp_loss)\n",
    "    print(f\"Epoch {epoch+1}, Loss: {running_loss:.4f}, Accuracy: {acc:.2f}%\")\n",
    "    print(f\"Hey! the calculations are done in {_time(start, time.time())}\")\n"
   ]
  },
  {
   "cell_type": "code",
   "execution_count": 8,
   "metadata": {
    "id": "tt7eBAF67SNO"
   },
   "outputs": [
    {
     "name": "stdout",
     "output_type": "stream",
     "text": [
      "Test Accuracy: 78.21%\n",
      "Hey! the calculations are done in 7.25sec\n"
     ]
    }
   ],
   "source": [
    "correct = 0\n",
    "total = 0\n",
    "start = time.time()\n",
    "loss_test = []\n",
    "all_labels = []\n",
    "all_preds = []\n",
    "all_probs = []\n",
    "\n",
    "\n",
    "with torch.no_grad():\n",
    "    for inputs, labels in dataloaders['test']:\n",
    "        inputs, labels = inputs.to(device), labels.to(device)\n",
    "        outputs = model(inputs)\n",
    "        loss = criterion(outputs, labels)\n",
    "        loss_test.append(loss.detach().cpu().item())\n",
    "        _, preds = torch.max(outputs, 1)\n",
    "        correct += (preds == labels).sum().item()\n",
    "        total += labels.size(0)\n",
    "        all_labels.extend(labels.cpu().numpy())\n",
    "        all_preds.extend(preds.cpu().numpy())\n",
    "\n",
    "        # Store probabilities for ROC-AUC curve (assuming binary classification)\n",
    "        all_probs.extend(torch.nn.functional.softmax(outputs, dim=1)[:, 1].cpu().numpy())\n",
    "\n",
    "print(f\"Test Accuracy: {100 * correct / total:.2f}%\")\n",
    "print(f\"Hey! the calculations are done in {_time(start, time.time())}\")"
   ]
  },
  {
   "cell_type": "code",
   "execution_count": 9,
   "metadata": {},
   "outputs": [
    {
     "name": "stdout",
     "output_type": "stream",
     "text": [
      "Precision: 0.8106\n",
      "Recall: 0.7821\n",
      "F1-score: 0.7609\n"
     ]
    },
    {
     "data": {
      "image/png": "[encoded data removed]",
      "text/plain": [
       "<Figure size 640x480 with 1 Axes>"
      ]
     },
     "metadata": {},
     "output_type": "display_data"
    },
    {
     "name": "stdout",
     "output_type": "stream",
     "text": [
      "ROC-AUC Score: 0.8691\n"
     ]
    }
   ],
   "source": [
    "\n",
    "# Compute Precision, Recall, F1-score\n",
    "precision = precision_score(all_labels, all_preds, average='weighted')\n",
    "recall = recall_score(all_labels, all_preds, average='weighted')\n",
    "f1 = f1_score(all_labels, all_preds, average='weighted')\n",
    "\n",
    "print(f\"Precision: {precision:.4f}\")\n",
    "print(f\"Recall: {recall:.4f}\")\n",
    "print(f\"F1-score: {f1:.4f}\")\n",
    "\n",
    "# Compute ROC-AUC Curve\n",
    "fpr, tpr, _ = roc_curve(all_labels, all_probs)\n",
    "roc_auc = roc_auc_score(all_labels, all_probs)\n",
    "\n",
    "# Plot ROC Curve\n",
    "plt.figure()\n",
    "plt.plot(fpr, tpr, label=f'ROC curve (area = {roc_auc:.4f})')\n",
    "plt.plot([0, 1], [0, 1], 'k--')  # Diagonal line\n",
    "plt.xlabel('False Positive Rate')\n",
    "plt.ylabel('True Positive Rate')\n",
    "plt.title('ROC Curve')\n",
    "plt.legend(loc=\"lower right\")\n",
    "plt.show()\n",
    "\n",
    "print(f\"ROC-AUC Score: {roc_auc:.4f}\")"
   ]
  },
  {
   "cell_type": "code",
   "execution_count": 10,
   "metadata": {
    "id": "Qodr1G9J8NkR"
   },
   "outputs": [
    {
     "data": {
      "text/plain": [
       "<sklearn.metrics._plot.confusion_matrix.ConfusionMatrixDisplay at 0x238805ed8e0>"
      ]
     },
     "execution_count": 10,
     "metadata": {},
     "output_type": "execute_result"
    },
    {
     "data": {
      "image/png": "[encoded data removed]",
      "text/plain": [
       "<Figure size 640x480 with 2 Axes>"
      ]
     },
     "metadata": {},
     "output_type": "display_data"
    }
   ],
   "source": [
    "Categories = ['Normal', 'Pneumonia']\n",
    "cm = confusion_matrix(all_labels, all_preds)\n",
    "ConfusionMatrixDisplay(confusion_matrix=cm, display_labels=Categories).plot()"
   ]
  },
  {
   "cell_type": "code",
   "execution_count": 11,
   "metadata": {
    "id": "nPoX52qDS4Nz"
   },
   "outputs": [],
   "source": [
    "from sklearn.metrics import classification_report"
   ]
  },
  {
   "cell_type": "code",
   "execution_count": 12,
   "metadata": {},
   "outputs": [],
   "source": [
    "Categories = ['Normal', 'Pneumonia']"
   ]
  },
  {
   "cell_type": "code",
   "execution_count": 13,
   "metadata": {},
   "outputs": [
    {
     "name": "stdout",
     "output_type": "stream",
     "text": [
      "              precision    recall  f1-score   support\n",
      "\n",
      "      Normal       0.91      0.47      0.62       234\n",
      "   Pneumonia       0.75      0.97      0.85       390\n",
      "\n",
      "    accuracy                           0.78       624\n",
      "   macro avg       0.83      0.72      0.73       624\n",
      "weighted avg       0.81      0.78      0.76       624\n",
      "\n"
     ]
    }
   ],
   "source": [
    "print(classification_report(all_labels, all_preds, target_names=Categories))"
   ]
  },
  {
   "cell_type": "code",
   "execution_count": null,
   "metadata": {},
   "outputs": [],
   "source": []
  }
 ],
 "metadata": {
  "accelerator": "GPU",
  "colab": {
   "gpuType": "T4",
   "provenance": []
  },
  "kernelspec": {
   "display_name": "Python 3 (ipykernel)",
   "language": "python",
   "name": "python3"
  },
  "language_info": {
   "codemirror_mode": {
    "name": "ipython",
    "version": 3
   },
   "file_extension": ".py",
   "mimetype": "text/x-python",
   "name": "python",
   "nbconvert_exporter": "python",
   "pygments_lexer": "ipython3",
   "version": "3.12.4"
  }
 },
 "nbformat": 4,
 "nbformat_minor": 4
}
