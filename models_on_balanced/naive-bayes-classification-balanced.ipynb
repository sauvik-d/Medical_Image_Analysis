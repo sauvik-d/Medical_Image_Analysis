{
 "cells": [
  {
   "cell_type": "code",
   "execution_count": 1,
   "id": "cee7c2bd-f22f-4eb3-ab6a-fc490c5a815c",
   "metadata": {
    "execution": {
     "iopub.execute_input": "2025-06-27T17:28:34.117359Z",
     "iopub.status.busy": "2025-06-27T17:28:34.117017Z",
     "iopub.status.idle": "2025-06-27T17:28:35.377532Z",
     "shell.execute_reply": "2025-06-27T17:28:35.376460Z",
     "shell.execute_reply.started": "2025-06-27T17:28:34.117326Z"
    }
   },
   "outputs": [],
   "source": [
    "import pandas as pd\n",
    "import os\n",
    "from skimage.transform import resize\n",
    "from skimage.io import imread\n",
    "import numpy as np\n",
    "import matplotlib.pyplot as plt"
   ]
  },
  {
   "cell_type": "code",
   "execution_count": 2,
   "id": "bc8b729f-188b-4f3b-8764-55e24a4645c1",
   "metadata": {
    "execution": {
     "iopub.execute_input": "2025-06-27T17:28:47.423302Z",
     "iopub.status.busy": "2025-06-27T17:28:47.422928Z",
     "iopub.status.idle": "2025-06-27T17:28:47.428680Z",
     "shell.execute_reply": "2025-06-27T17:28:47.427370Z",
     "shell.execute_reply.started": "2025-06-27T17:28:47.423274Z"
    }
   },
   "outputs": [],
   "source": [
    "Categories=['NORMAL','PNEUMONIA']"
   ]
  },
  {
   "cell_type": "code",
   "execution_count": 3,
   "id": "f213597c-3ab8-4a3a-966a-733c3b6ba2fb",
   "metadata": {
    "execution": {
     "iopub.execute_input": "2025-06-27T17:28:48.753810Z",
     "iopub.status.busy": "2025-06-27T17:28:48.753479Z",
     "iopub.status.idle": "2025-06-27T17:28:48.758246Z",
     "shell.execute_reply": "2025-06-27T17:28:48.757070Z",
     "shell.execute_reply.started": "2025-06-27T17:28:48.753781Z"
    }
   },
   "outputs": [],
   "source": [
    "flat_data_arr=[]\n",
    "target_arr=[]"
   ]
  },
  {
   "cell_type": "code",
   "execution_count": 4,
   "id": "d5b6bf64-2ca1-4b11-8d9f-44ab882f33c1",
   "metadata": {
    "execution": {
     "iopub.execute_input": "2025-06-27T17:28:49.058880Z",
     "iopub.status.busy": "2025-06-27T17:28:49.058532Z",
     "iopub.status.idle": "2025-06-27T17:28:49.063582Z",
     "shell.execute_reply": "2025-06-27T17:28:49.062547Z",
     "shell.execute_reply.started": "2025-06-27T17:28:49.058855Z"
    }
   },
   "outputs": [],
   "source": [
    "flat_data_arr_test=[]\n",
    "target_arr_test=[]"
   ]
  },
  {
   "cell_type": "code",
   "execution_count": 5,
   "id": "4bbfd50c-4970-4ce4-978e-1cf766e28504",
   "metadata": {
    "execution": {
     "iopub.execute_input": "2025-06-27T17:28:51.680179Z",
     "iopub.status.busy": "2025-06-27T17:28:51.679833Z",
     "iopub.status.idle": "2025-06-27T17:28:51.684864Z",
     "shell.execute_reply": "2025-06-27T17:28:51.683736Z",
     "shell.execute_reply.started": "2025-06-27T17:28:51.680153Z"
    }
   },
   "outputs": [],
   "source": [
    "datadir = '/kaggle/input/balanced-chest-xray/balanced/train'\n",
    "datadir2 = '/kaggle/input/balanced-chest-xray/balanced/test'"
   ]
  },
  {
   "cell_type": "code",
   "execution_count": 6,
   "id": "1fc227a2-6936-47f3-88fc-3fd94ea656ea",
   "metadata": {
    "execution": {
     "iopub.execute_input": "2025-06-27T17:28:51.979409Z",
     "iopub.status.busy": "2025-06-27T17:28:51.979109Z",
     "iopub.status.idle": "2025-06-27T17:39:04.754500Z",
     "shell.execute_reply": "2025-06-27T17:39:04.753479Z",
     "shell.execute_reply.started": "2025-06-27T17:28:51.979389Z"
    }
   },
   "outputs": [
    {
     "name": "stdout",
     "output_type": "stream",
     "text": [
      "loading... category : NORMAL\n",
      "loaded category:NORMAL successfully\n",
      "loading... category : PNEUMONIA\n",
      "loaded category:PNEUMONIA successfully\n"
     ]
    }
   ],
   "source": [
    "for i in Categories:\n",
    "\n",
    "    print(f'loading... category : {i}')\n",
    "    path=os.path.join(datadir,i)\n",
    "    for img in os.listdir(path):\n",
    "        img_array=imread(os.path.join(path,img))\n",
    "        img_resized=resize(img_array,(128,128,3))\n",
    "        flat_data_arr.append(img_resized.flatten())\n",
    "        target_arr.append(Categories.index(i))\n",
    "    print(f'loaded category:{i} successfully')"
   ]
  },
  {
   "cell_type": "code",
   "execution_count": 17,
   "id": "4cedb87a-6124-46db-bc68-9eac1a942344",
   "metadata": {
    "execution": {
     "iopub.execute_input": "2025-06-27T17:47:50.662556Z",
     "iopub.status.busy": "2025-06-27T17:47:50.661902Z",
     "iopub.status.idle": "2025-06-27T17:49:08.129194Z",
     "shell.execute_reply": "2025-06-27T17:49:08.128093Z",
     "shell.execute_reply.started": "2025-06-27T17:47:50.662524Z"
    }
   },
   "outputs": [
    {
     "name": "stdout",
     "output_type": "stream",
     "text": [
      "loading... category : NORMAL\n",
      "loaded category:NORMAL successfully\n",
      "loading... category : PNEUMONIA\n",
      "loaded category:PNEUMONIA successfully\n"
     ]
    }
   ],
   "source": [
    "for i in Categories:\n",
    "\n",
    "    print(f'loading... category : {i}')\n",
    "    path=os.path.join(datadir2,i)\n",
    "    for img in os.listdir(path):\n",
    "        img_array=imread(os.path.join(path,img))\n",
    "        img_resized=resize(img_array,(128,128,3))\n",
    "        flat_data_arr_test.append(img_resized.flatten())\n",
    "        target_arr_test.append(Categories.index(i))\n",
    "    print(f'loaded category:{i} successfully')"
   ]
  },
  {
   "cell_type": "markdown",
   "id": "9247e349-35fe-483f-a88e-ddd86dfca101",
   "metadata": {},
   "source": [
    "flat_data_test=np.array(flat_data_arr_test)\n",
    "target_test=np.array(target_arr_test)\n",
    "df=pd.DataFrame(flat_data_test)\n",
    "df['Target']=target_test\n",
    "x_test2=df.iloc[:,:-1]\n",
    "y_test2=df.iloc[:,-1]"
   ]
  },
  {
   "cell_type": "code",
   "execution_count": 15,
   "id": "e878e474-7119-4088-b0c2-34d3088aba3e",
   "metadata": {
    "execution": {
     "iopub.execute_input": "2025-06-27T17:41:53.802600Z",
     "iopub.status.busy": "2025-06-27T17:41:53.801138Z",
     "iopub.status.idle": "2025-06-27T17:41:57.979480Z",
     "shell.execute_reply": "2025-06-27T17:41:57.978523Z",
     "shell.execute_reply.started": "2025-06-27T17:41:53.802564Z"
    }
   },
   "outputs": [
    {
     "data": {
      "text/plain": [
       "(7716, 49152)"
      ]
     },
     "execution_count": 15,
     "metadata": {},
     "output_type": "execute_result"
    }
   ],
   "source": [
    "flat_data=np.array(flat_data_arr)\n",
    "target=np.array(target_arr)\n",
    "\n",
    "df=pd.DataFrame(flat_data)\n",
    "df['Target']=target\n",
    "\n",
    "x=df.iloc[:,:-1]\n",
    "y=df.iloc[:,-1]\n",
    "x.shape"
   ]
  },
  {
   "cell_type": "code",
   "execution_count": 19,
   "id": "a84915cf-23b5-4686-aa92-b83d1a590e01",
   "metadata": {
    "execution": {
     "iopub.execute_input": "2025-06-27T17:50:58.947652Z",
     "iopub.status.busy": "2025-06-27T17:50:58.947324Z",
     "iopub.status.idle": "2025-06-27T17:50:58.955033Z",
     "shell.execute_reply": "2025-06-27T17:50:58.954033Z",
     "shell.execute_reply.started": "2025-06-27T17:50:58.947631Z"
    }
   },
   "outputs": [],
   "source": [
    "def load_image(datadir, Categories):\n",
    "\n",
    "    flat_data_arr=[]\n",
    "    target_arr=[]\n",
    "\n",
    "    for i in Categories:\n",
    "\n",
    "        print(f'loading... category : {i}')\n",
    "        path=os.path.join(datadir,i)\n",
    "        for img in os.listdir(path):\n",
    "            img_array=imread(os.path.join(path,img))\n",
    "            img_resized=resize(img_array,(128,128,3))\n",
    "            flat_data_arr.append(img_resized.flatten())\n",
    "            target_arr.append(Categories.index(i))\n",
    "        print(f'loaded category:{i} successfully')\n",
    "\n",
    "    flat_data=np.array(flat_data_arr)\n",
    "    target=np.array(target_arr)\n",
    "\n",
    "    df=pd.DataFrame(flat_data)\n",
    "    df['Target']=target\n",
    "\n",
    "    x=df.iloc[:,:-1]\n",
    "    y=df.iloc[:,-1]\n",
    "    return x, y"
   ]
  },
  {
   "cell_type": "code",
   "execution_count": 20,
   "id": "31a0ce90-9e0c-4eff-b584-728ab9a604b4",
   "metadata": {
    "execution": {
     "iopub.execute_input": "2025-06-27T17:51:00.106151Z",
     "iopub.status.busy": "2025-06-27T17:51:00.104913Z",
     "iopub.status.idle": "2025-06-27T17:52:18.350372Z",
     "shell.execute_reply": "2025-06-27T17:52:18.349277Z",
     "shell.execute_reply.started": "2025-06-27T17:51:00.106114Z"
    }
   },
   "outputs": [
    {
     "name": "stdout",
     "output_type": "stream",
     "text": [
      "loading... category : NORMAL\n",
      "loaded category:NORMAL successfully\n",
      "loading... category : PNEUMONIA\n",
      "loaded category:PNEUMONIA successfully\n"
     ]
    }
   ],
   "source": [
    "x_test, y_test = load_image(datadir2, Categories)"
   ]
  },
  {
   "cell_type": "code",
   "execution_count": 21,
   "id": "e31cca50-5c34-47cd-a981-f33c959f102d",
   "metadata": {
    "execution": {
     "iopub.execute_input": "2025-06-27T17:52:30.299346Z",
     "iopub.status.busy": "2025-06-27T17:52:30.298866Z",
     "iopub.status.idle": "2025-06-27T17:52:30.308331Z",
     "shell.execute_reply": "2025-06-27T17:52:30.307053Z",
     "shell.execute_reply.started": "2025-06-27T17:52:30.299314Z"
    }
   },
   "outputs": [],
   "source": [
    "import time\n",
    "def _time(start, end): \n",
    "    # if in seconds \n",
    "    if (end-start)<60: \n",
    "        wall_time = f'{round((end-start),2)}sec'\n",
    "    # if in minute(s)  \n",
    "    elif (end-start)>=3600: \n",
    "        wall_time = f'{int((end-start)/3600)}h {int(((end-start)%3600)/60)}min {round((end-start)%60,2)}sec'\n",
    "    # if in houre(s)  \n",
    "    else: \n",
    "        wall_time = f'{int((end-start)/60)}min {round((end-start)%60,2)}sec'\n",
    "    return wall_time"
   ]
  },
  {
   "cell_type": "markdown",
   "id": "b65b011b-3115-4ffe-9f6f-9390be3b1ed8",
   "metadata": {},
   "source": [
    "from sklearn.model_selection import train_test_split\n",
    "x_train,x_test,y_train,y_test=train_test_split(x,y,test_size=0.30,random_state=42)"
   ]
  },
  {
   "cell_type": "code",
   "execution_count": 22,
   "id": "435b4bee-e538-480e-9d29-90e793fe9733",
   "metadata": {
    "execution": {
     "iopub.execute_input": "2025-06-27T17:52:35.871860Z",
     "iopub.status.busy": "2025-06-27T17:52:35.871485Z",
     "iopub.status.idle": "2025-06-27T17:52:35.878313Z",
     "shell.execute_reply": "2025-06-27T17:52:35.877132Z",
     "shell.execute_reply.started": "2025-06-27T17:52:35.871837Z"
    }
   },
   "outputs": [],
   "source": [
    "from sklearn.naive_bayes import BernoulliNB\n",
    "from sklearn.naive_bayes import GaussianNB, ComplementNB, MultinomialNB\n",
    "from sklearn.metrics import (\n",
    "    accuracy_score,\n",
    "    confusion_matrix,\n",
    "    ConfusionMatrixDisplay,\n",
    "    f1_score,\n",
    "    roc_auc_score, roc_curve,\n",
    "    precision_score,\n",
    "    recall_score\n",
    ")"
   ]
  },
  {
   "cell_type": "code",
   "execution_count": 23,
   "id": "a98113dc-0bb3-4664-a197-0283af99b4a9",
   "metadata": {
    "execution": {
     "iopub.execute_input": "2025-06-27T17:52:38.777717Z",
     "iopub.status.busy": "2025-06-27T17:52:38.777375Z",
     "iopub.status.idle": "2025-06-27T17:52:44.781351Z",
     "shell.execute_reply": "2025-06-27T17:52:44.780256Z",
     "shell.execute_reply.started": "2025-06-27T17:52:38.777694Z"
    }
   },
   "outputs": [],
   "source": [
    "classifer_Gauss = GaussianNB()\n",
    "\n",
    "model_Gauss = classifer_Gauss.fit(x, y)\n"
   ]
  },
  {
   "cell_type": "code",
   "execution_count": 24,
   "id": "f06afdf5-3b4b-4b02-89f8-a4e12958743c",
   "metadata": {
    "execution": {
     "iopub.execute_input": "2025-06-27T17:52:44.783164Z",
     "iopub.status.busy": "2025-06-27T17:52:44.782888Z",
     "iopub.status.idle": "2025-06-27T17:52:44.787712Z",
     "shell.execute_reply": "2025-06-27T17:52:44.786673Z",
     "shell.execute_reply.started": "2025-06-27T17:52:44.783140Z"
    }
   },
   "outputs": [],
   "source": [
    "from sklearn.metrics import classification_report"
   ]
  },
  {
   "cell_type": "code",
   "execution_count": 27,
   "id": "77a5dbc1-76d6-451b-8369-f8abc8b2193f",
   "metadata": {
    "execution": {
     "iopub.execute_input": "2025-06-27T17:56:36.875235Z",
     "iopub.status.busy": "2025-06-27T17:56:36.873800Z",
     "iopub.status.idle": "2025-06-27T17:56:39.227620Z",
     "shell.execute_reply": "2025-06-27T17:56:39.226789Z",
     "shell.execute_reply.started": "2025-06-27T17:56:36.875187Z"
    }
   },
   "outputs": [
    {
     "name": "stdout",
     "output_type": "stream",
     "text": [
      "The predicted Data is :\n",
      "[1 1 1 0 0 0 0 1 1 1 0 1 1 1 1 1 0 1 0 1 1 1 1 0 1 0 0 1 1 1 1 0 0 0 0 0 1\n",
      " 1 1 1 1 1 0 0 0 1 1 1 0 1 0 1 0 0 1 0 0 1 0 0 1 1 1 0 1 1 0 0 1 0 1 0 1 0\n",
      " 1 1 1 1 0 0 1 0 1 0 0 0 1 1 1 0 0 0 0 1 0 0 0 1 1 1 1 1 1 0 0 1 0 1 0 1 0\n",
      " 0 1 0 1 1 0 1 1 1 0 0 0 0 0 0 1 0 0 0 1 1 0 0 0 0 1 0 1 1 1 1 1 0 0 1 1 1\n",
      " 0 0 1 0 0 0 0 0 0 0 0 0 0 0 1 1 1 1 1 1 0 1 0 1 0 1 0 1 1 1 1 1 0 0 0 1 1\n",
      " 1 1 1 1 1 1 0 1 0 1 0 1 1 0 1 1 0 1 1 0 1 0 1 1 1 1 0 1 0 1 1 1 0 0 1 1 1\n",
      " 1 0 1 1 1 0 1 1 0 1 0 0 0 1 0 1 1 0 1 1 1 1 1 0 0 1 1 0 1 1 1 0 1 1 1 1 1\n",
      " 0 1 0 1 0 1 1 0 1 1 1 1 1 1 0 1 1 1 1 1 1 1 1 1 1 1 1 0 1 1 0 1 1 1 1 1 1\n",
      " 0 1 1 1 1 1 1 0 1 1 1 0 1 0 1 1 0 1 1 0 0 1 1 1 1 1 1 1 1 1 1 1 1 1 1 1 1\n",
      " 0 1 1 1 1 1 1 1 0 0 1 1 1 1 1 1 1 1 1 1 1 1 1 1 1 1 1 1 1 1 1 0 1 1 1 1 1\n",
      " 1 0 1 1 1 1 0 0 0 1 0 1 1 1 0 1 1 1 1 1 1 1 0 1 1 0 1 1 0 1 0 0 1 0 1 1 0\n",
      " 1 1 0 0 1 1 1 1 1 1 1 0 0 1 1 1 1 1 0 1 1 1 1 1 1 1 1 1 1 0 1 1 1 1 1 1 0\n",
      " 1 1 1 1 1 1 1 1 1 1 0 1 0 1 1 0 1 1 1 1 1 1 1 1 1 1 1 1 1 1 1 0 1 1 1 0 0\n",
      " 1 1 1 1 1 0 1 1 1 1 1 1 1 1 1 0 1 1 0 1 1 1 1 1 1 1 0 1 1 1 1 1 1 1 1 1 0\n",
      " 1 1 1 1 0 1 1 1 1 1 1 1 1 1 1 0 1 1 1 1 1 1 0 1 1 1 1 1 0 1 1 1 1 1 1 1 1\n",
      " 1 0 1 1 1 1 1 1 1 1 1 1 1 1 1 1 1 1 0 1 0 1 1 1 1 1 0 1 1 1 0 0 1 1 1 0 1\n",
      " 1 1 1 1 1 1 1 1 1 1 0 1 1 1 1 1 1 1 1 1 1 1 1 1 1 0 0 1 1 1 1 0]\n",
      "The actual data is:\n",
      "[0 0 0 0 0 0 0 0 0 0 0 0 0 0 0 0 0 0 0 0 0 0 0 0 0 0 0 0 0 0 0 0 0 0 0 0 0\n",
      " 0 0 0 0 0 0 0 0 0 0 0 0 0 0 0 0 0 0 0 0 0 0 0 0 0 0 0 0 0 0 0 0 0 0 0 0 0\n",
      " 0 0 0 0 0 0 0 0 0 0 0 0 0 0 0 0 0 0 0 0 0 0 0 0 0 0 0 0 0 0 0 0 0 0 0 0 0\n",
      " 0 0 0 0 0 0 0 0 0 0 0 0 0 0 0 0 0 0 0 0 0 0 0 0 0 0 0 0 0 0 0 0 0 0 0 0 0\n",
      " 0 0 0 0 0 0 0 0 0 0 0 0 0 0 0 0 0 0 0 0 0 0 0 0 0 0 0 0 0 0 0 0 0 0 0 0 0\n",
      " 0 0 0 0 0 0 0 0 0 0 0 0 0 0 0 0 0 0 0 0 0 0 0 0 0 0 0 0 0 0 0 0 0 0 0 0 0\n",
      " 0 0 0 0 0 0 0 0 0 0 0 0 1 1 1 1 1 1 1 1 1 1 1 1 1 1 1 1 1 1 1 1 1 1 1 1 1\n",
      " 1 1 1 1 1 1 1 1 1 1 1 1 1 1 1 1 1 1 1 1 1 1 1 1 1 1 1 1 1 1 1 1 1 1 1 1 1\n",
      " 1 1 1 1 1 1 1 1 1 1 1 1 1 1 1 1 1 1 1 1 1 1 1 1 1 1 1 1 1 1 1 1 1 1 1 1 1\n",
      " 1 1 1 1 1 1 1 1 1 1 1 1 1 1 1 1 1 1 1 1 1 1 1 1 1 1 1 1 1 1 1 1 1 1 1 1 1\n",
      " 1 1 1 1 1 1 1 1 1 1 1 1 1 1 1 1 1 1 1 1 1 1 1 1 1 1 1 1 1 1 1 1 1 1 1 1 1\n",
      " 1 1 1 1 1 1 1 1 1 1 1 1 1 1 1 1 1 1 1 1 1 1 1 1 1 1 1 1 1 1 1 1 1 1 1 1 1\n",
      " 1 1 1 1 1 1 1 1 1 1 1 1 1 1 1 1 1 1 1 1 1 1 1 1 1 1 1 1 1 1 1 1 1 1 1 1 1\n",
      " 1 1 1 1 1 1 1 1 1 1 1 1 1 1 1 1 1 1 1 1 1 1 1 1 1 1 1 1 1 1 1 1 1 1 1 1 1\n",
      " 1 1 1 1 1 1 1 1 1 1 1 1 1 1 1 1 1 1 1 1 1 1 1 1 1 1 1 1 1 1 1 1 1 1 1 1 1\n",
      " 1 1 1 1 1 1 1 1 1 1 1 1 1 1 1 1 1 1 1 1 1 1 1 1 1 1 1 1 1 1 1 1 1 1 1 1 1\n",
      " 1 1 1 1 1 1 1 1 1 1 1 1 1 1 1 1 1 1 1 1 1 1 1 1 1 1 1 1 1 1 1 1]\n",
      "The model is 67.94871794871796% accurate\n",
      "              precision    recall  f1-score   support\n",
      "\n",
      "      NORMAL       0.60      0.45      0.51       234\n",
      "   PNEUMONIA       0.71      0.82      0.76       390\n",
      "\n",
      "    accuracy                           0.68       624\n",
      "   macro avg       0.65      0.63      0.64       624\n",
      "weighted avg       0.67      0.68      0.67       624\n",
      "\n",
      "Time taken:  2.18sec\n"
     ]
    },
    {
     "data": {
      "image/png": "[encoded data removed]",
      "text/plain": [
       "<Figure size 640x480 with 2 Axes>"
      ]
     },
     "metadata": {},
     "output_type": "display_data"
    }
   ],
   "source": [
    "# for Gaussian NB\n",
    "start = time.time()\n",
    "\n",
    "y_pred=model_Gauss.predict(x_test)\n",
    "print(\"The predicted Data is :\")\n",
    "print(y_pred)\n",
    "print(\"The actual data is:\")\n",
    "print(np.array(y_test))\n",
    "print(f\"The model is {accuracy_score(y_pred,y_test)*100}% accurate\")\n",
    "print(classification_report(y_test, y_pred, target_names=Categories))\n",
    "cm = confusion_matrix(y_pred, y_test)\n",
    "disp = ConfusionMatrixDisplay(confusion_matrix=cm, display_labels=Categories)\n",
    "disp.plot()\n",
    "model_Gauss.score(x_test, y_test)\n",
    "print('Time taken: ', _time(start, time.time()))"
   ]
  },
  {
   "cell_type": "code",
   "execution_count": 28,
   "id": "fe0b1a13-4861-48fb-9400-beacf48646a4",
   "metadata": {
    "execution": {
     "iopub.execute_input": "2025-06-27T17:56:42.311817Z",
     "iopub.status.busy": "2025-06-27T17:56:42.311476Z",
     "iopub.status.idle": "2025-06-27T17:56:42.525048Z",
     "shell.execute_reply": "2025-06-27T17:56:42.524132Z",
     "shell.execute_reply.started": "2025-06-27T17:56:42.311787Z"
    }
   },
   "outputs": [
    {
     "name": "stdout",
     "output_type": "stream",
     "text": [
      "Precision: 0.6688\n",
      "Recall: 0.6795\n",
      "F1-score: 0.6679\n"
     ]
    },
    {
     "data": {
      "image/png": "[encoded data removed]",
      "text/plain": [
       "<Figure size 640x480 with 1 Axes>"
      ]
     },
     "metadata": {},
     "output_type": "display_data"
    },
    {
     "name": "stdout",
     "output_type": "stream",
     "text": [
      "ROC-AUC Score: 0.6333\n"
     ]
    }
   ],
   "source": [
    "precision = precision_score(y_test, y_pred, average='weighted')\n",
    "recall = recall_score(y_test, y_pred, average='weighted')\n",
    "f1 = f1_score(y_test, y_pred, average='weighted')\n",
    "\n",
    "print(f\"Precision: {precision:.4f}\")\n",
    "print(f\"Recall: {recall:.4f}\")\n",
    "print(f\"F1-score: {f1:.4f}\")\n",
    "\n",
    "# Compute ROC-AUC Curve\n",
    "fpr, tpr, _ = roc_curve(y_test, y_pred)\n",
    "roc_auc = roc_auc_score(y_test, y_pred)\n",
    "\n",
    "# Plot ROC Curve\n",
    "plt.figure()\n",
    "plt.plot(fpr, tpr, label=f'ROC curve (area = {roc_auc:.4f})')\n",
    "plt.plot([0, 1], [0, 1], 'k--')  # Diagonal line\n",
    "plt.xlabel('False Positive Rate')\n",
    "plt.ylabel('True Positive Rate')\n",
    "plt.title('ROC Curve')\n",
    "plt.legend(loc=\"lower right\")\n",
    "plt.show()\n",
    "\n",
    "print(f\"ROC-AUC Score: {roc_auc:.4f}\")"
   ]
  },
  {
   "cell_type": "code",
   "execution_count": null,
   "id": "49e07daa-734c-4dcb-9c7a-b67de35cafb5",
   "metadata": {},
   "outputs": [],
   "source": [
    "url=input('Enter URL of Image :')\n",
    "img=imread(url)\n",
    "plt.imshow(img)\n",
    "plt.show()\n",
    "img_resize=resize(img,(150,150,3))\n",
    "l=[img_resize.flatten()]\n",
    "probability=model_Gauss.predict_proba(l)\n",
    "for ind,val in enumerate(Categories):\n",
    "    print(f'{val} = {probability[0][ind]*100}%')\n",
    "print(\"The predicted image is : \"+Categories[model_Gauss.predict(l)[0]])"
   ]
  },
  {
   "cell_type": "code",
   "execution_count": null,
   "id": "8c719fff",
   "metadata": {},
   "outputs": [],
   "source": [
    "url=input('Enter URL of Image :')\n",
    "img=imread(url)\n",
    "plt.imshow(img)\n",
    "plt.show()\n",
    "img_resize=resize(img,(150,150,3))\n",
    "l=[img_resize.flatten()]\n",
    "probability=model_Gauss.predict_proba(l)\n",
    "for ind,val in enumerate(Categories):\n",
    "    print(f'{val} = {probability[0][ind]*100}%')\n",
    "print(\"The predicted image is : \"+Categories[model_Gauss.predict(l)[0]])"
   ]
  }
 ],
 "metadata": {
  "kaggle": {
   "accelerator": "none",
   "dataSources": [
    {
     "datasetId": 7639084,
     "sourceId": 12130817,
     "sourceType": "datasetVersion"
    }
   ],
   "dockerImageVersionId": 31041,
   "isGpuEnabled": false,
   "isInternetEnabled": true,
   "language": "python",
   "sourceType": "notebook"
  },
  "kernelspec": {
   "display_name": "Python 3 (ipykernel)",
   "language": "python",
   "name": "python3"
  },
  "language_info": {
   "codemirror_mode": {
    "name": "ipython",
    "version": 3
   },
   "file_extension": ".py",
   "mimetype": "text/x-python",
   "name": "python",
   "nbconvert_exporter": "python",
   "pygments_lexer": "ipython3",
   "version": "3.12.4"
  }
 },
 "nbformat": 4,
 "nbformat_minor": 5
}
