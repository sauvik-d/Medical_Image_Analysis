{
 "cells": [
  {
   "cell_type": "code",
   "execution_count": 1,
   "metadata": {
    "id": "BlTHEc7x68XI"
   },
   "outputs": [],
   "source": [
    "import torch\n",
    "import torch.nn as nn\n",
    "import torch.optim as optim\n",
    "from torch.utils.data import DataLoader\n",
    "from torchvision import datasets, transforms\n",
    "from sklearn.metrics import classification_report, precision_score, recall_score, f1_score, accuracy_score, confusion_matrix, ConfusionMatrixDisplay, roc_curve, roc_auc_score\n",
    "import matplotlib.pyplot as plt\n",
    "import os"
   ]
  },
  {
   "cell_type": "code",
   "execution_count": 2,
   "metadata": {},
   "outputs": [],
   "source": [
    "import time\n",
    "def _time(start, end): \n",
    "    # if in seconds \n",
    "    if (end-start)<60: \n",
    "        wall_time = f'{round((end-start),2)}sec'\n",
    "    # if in minute(s)  \n",
    "    elif (end-start)>=3600: \n",
    "        wall_time = f'{int((end-start)/3600)}h {int(((end-start)%3600)/60)}min {round((end-start)%60,2)}sec'\n",
    "    # if in houre(s)  \n",
    "    else: \n",
    "        wall_time = f'{int((end-start)/60)}min {round((end-start)%60,2)}sec'\n",
    "    return wall_time"
   ]
  },
  {
   "cell_type": "code",
   "execution_count": 3,
   "metadata": {},
   "outputs": [],
   "source": [
    "data_dir = \"D:/github/archive/chest_xray/balanced\"\n",
    "batch_size = 32\n",
    "image_size = 128  # or 256\n",
    "\n",
    "# Transform with resizing and normalization\n",
    "data_transforms = {\n",
    "    'train': transforms.Compose([\n",
    "        transforms.Resize((image_size, image_size)),\n",
    "        transforms.Grayscale(num_output_channels=1),\n",
    "        transforms.ToTensor(),\n",
    "        transforms.Normalize([0.5], [0.5])\n",
    "    ]),\n",
    "    'val': transforms.Compose([\n",
    "        transforms.Resize((image_size, image_size)),\n",
    "        transforms.Grayscale(num_output_channels=1),\n",
    "        transforms.ToTensor(),\n",
    "        transforms.Normalize([0.5], [0.5])\n",
    "    ]),\n",
    "    'test': transforms.Compose([\n",
    "        transforms.Resize((image_size, image_size)),\n",
    "        transforms.Grayscale(num_output_channels=1),\n",
    "        transforms.ToTensor(),\n",
    "        transforms.Normalize([0.5], [0.5])\n",
    "    ])\n",
    "}\n"
   ]
  },
  {
   "cell_type": "code",
   "execution_count": 4,
   "metadata": {},
   "outputs": [],
   "source": [
    "datasets_dict = {x: datasets.ImageFolder(os.path.join(data_dir, x), transform=data_transforms[x])\n",
    "                 for x in ['train', 'val', 'test']}\n",
    "\n",
    "dataloaders = {x: DataLoader(datasets_dict[x], batch_size=batch_size, shuffle=True)\n",
    "               for x in ['train', 'val', 'test']}\n",
    "\n",
    "class_names = datasets_dict['train'].classes"
   ]
  },
  {
   "cell_type": "code",
   "execution_count": 5,
   "metadata": {
    "id": "j9H-DzJc7HRq"
   },
   "outputs": [],
   "source": [
    "class ANN(nn.Module):\n",
    "    def __init__(self):\n",
    "        super(ANN, self).__init__()\n",
    "        self.fc = nn.Sequential(\n",
    "            nn.Flatten(),\n",
    "            nn.Linear(128*128, 512),\n",
    "            nn.ReLU(),\n",
    "            nn.Dropout(0.3),\n",
    "            nn.Linear(512, 128),\n",
    "            nn.ReLU(),\n",
    "            nn.Dropout(0.3),\n",
    "            nn.Linear(128, 2)\n",
    "        )\n",
    "\n",
    "    def forward(self, x):\n",
    "        return self.fc(x)\n"
   ]
  },
  {
   "cell_type": "code",
   "execution_count": 6,
   "metadata": {
    "id": "1PM8hcDP7H6i"
   },
   "outputs": [],
   "source": [
    "device = torch.device(\"cuda\" if torch.cuda.is_available() else \"cpu\")\n",
    "\n",
    "model = ANN().to(device)\n",
    "criterion = nn.CrossEntropyLoss()\n",
    "optimizer = optim.Adam(model.parameters(), lr=0.001)\n"
   ]
  },
  {
   "cell_type": "code",
   "execution_count": 7,
   "metadata": {
    "colab": {
     "base_uri": "https://localhost:8080/"
    },
    "id": "o3ffl7Ek7Ocm",
    "outputId": "f938a50e-c3ea-4835-c557-f29aed69e2af"
   },
   "outputs": [
    {
     "name": "stdout",
     "output_type": "stream",
     "text": [
      "Epoch 1, Loss: 62.2199, Accuracy: 90.40%\n",
      "Hey! the calculations are done in 1min 52.87sec\n",
      "Epoch 2, Loss: 36.1786, Accuracy: 94.61%\n",
      "Hey! the calculations are done in 55.11sec\n",
      "Epoch 3, Loss: 27.9977, Accuracy: 95.65%\n",
      "Hey! the calculations are done in 53.15sec\n",
      "Epoch 4, Loss: 24.5719, Accuracy: 96.32%\n",
      "Hey! the calculations are done in 53.06sec\n",
      "Epoch 5, Loss: 22.8338, Accuracy: 96.62%\n",
      "Hey! the calculations are done in 53.46sec\n",
      "Epoch 6, Loss: 18.1666, Accuracy: 97.42%\n",
      "Hey! the calculations are done in 55.54sec\n",
      "Epoch 7, Loss: 18.2054, Accuracy: 97.38%\n",
      "Hey! the calculations are done in 54.14sec\n",
      "Epoch 8, Loss: 16.3377, Accuracy: 97.65%\n",
      "Hey! the calculations are done in 54.1sec\n",
      "Epoch 9, Loss: 15.2800, Accuracy: 97.69%\n",
      "Hey! the calculations are done in 53.95sec\n",
      "Epoch 10, Loss: 16.1465, Accuracy: 97.73%\n",
      "Hey! the calculations are done in 53.75sec\n",
      "Epoch 11, Loss: 15.0680, Accuracy: 97.72%\n",
      "Hey! the calculations are done in 53.64sec\n",
      "Epoch 12, Loss: 13.0247, Accuracy: 97.97%\n",
      "Hey! the calculations are done in 53.35sec\n",
      "Epoch 13, Loss: 12.6071, Accuracy: 98.19%\n",
      "Hey! the calculations are done in 53.37sec\n",
      "Epoch 14, Loss: 15.6186, Accuracy: 97.89%\n",
      "Hey! the calculations are done in 54.1sec\n",
      "Epoch 15, Loss: 11.3647, Accuracy: 98.28%\n",
      "Hey! the calculations are done in 54.49sec\n",
      "Epoch 16, Loss: 10.9138, Accuracy: 98.34%\n",
      "Hey! the calculations are done in 54.21sec\n",
      "Epoch 17, Loss: 10.3457, Accuracy: 98.44%\n",
      "Hey! the calculations are done in 53.25sec\n",
      "Epoch 18, Loss: 14.9010, Accuracy: 98.00%\n",
      "Hey! the calculations are done in 53.39sec\n",
      "Epoch 19, Loss: 10.9768, Accuracy: 98.17%\n",
      "Hey! the calculations are done in 53.54sec\n",
      "Epoch 20, Loss: 11.2442, Accuracy: 98.50%\n",
      "Hey! the calculations are done in 52.51sec\n",
      "Epoch 21, Loss: 8.4235, Accuracy: 98.72%\n",
      "Hey! the calculations are done in 53.21sec\n",
      "Epoch 22, Loss: 11.0365, Accuracy: 98.39%\n",
      "Hey! the calculations are done in 52.07sec\n",
      "Epoch 23, Loss: 9.5344, Accuracy: 98.67%\n",
      "Hey! the calculations are done in 52.26sec\n",
      "Epoch 24, Loss: 9.5604, Accuracy: 98.65%\n",
      "Hey! the calculations are done in 54.12sec\n",
      "Epoch 25, Loss: 9.3096, Accuracy: 98.68%\n",
      "Hey! the calculations are done in 54.38sec\n",
      "Epoch 26, Loss: 8.5600, Accuracy: 98.65%\n",
      "Hey! the calculations are done in 52.34sec\n",
      "Epoch 27, Loss: 9.4776, Accuracy: 98.73%\n",
      "Hey! the calculations are done in 52.46sec\n",
      "Epoch 28, Loss: 8.3102, Accuracy: 98.76%\n",
      "Hey! the calculations are done in 52.21sec\n",
      "Epoch 29, Loss: 8.1865, Accuracy: 98.82%\n",
      "Hey! the calculations are done in 52.37sec\n",
      "Epoch 30, Loss: 8.5807, Accuracy: 98.76%\n",
      "Hey! the calculations are done in 52.32sec\n",
      "Epoch 31, Loss: 8.0089, Accuracy: 98.82%\n",
      "Hey! the calculations are done in 54.18sec\n",
      "Epoch 32, Loss: 6.7379, Accuracy: 99.00%\n",
      "Hey! the calculations are done in 54.73sec\n",
      "Epoch 33, Loss: 6.9315, Accuracy: 98.95%\n",
      "Hey! the calculations are done in 52.93sec\n",
      "Epoch 34, Loss: 6.6809, Accuracy: 98.94%\n",
      "Hey! the calculations are done in 53.28sec\n",
      "Epoch 35, Loss: 6.0966, Accuracy: 99.00%\n",
      "Hey! the calculations are done in 53.66sec\n",
      "Epoch 36, Loss: 6.9381, Accuracy: 99.11%\n",
      "Hey! the calculations are done in 53.32sec\n",
      "Epoch 37, Loss: 7.6002, Accuracy: 98.81%\n",
      "Hey! the calculations are done in 53.9sec\n",
      "Epoch 38, Loss: 5.6306, Accuracy: 99.27%\n",
      "Hey! the calculations are done in 1min 2.54sec\n",
      "Epoch 39, Loss: 7.1908, Accuracy: 98.95%\n",
      "Hey! the calculations are done in 1min 6.92sec\n",
      "Epoch 40, Loss: 7.4317, Accuracy: 98.98%\n",
      "Hey! the calculations are done in 1min 5.12sec\n",
      "Epoch 41, Loss: 6.5708, Accuracy: 99.29%\n",
      "Hey! the calculations are done in 1min 5.39sec\n",
      "Epoch 42, Loss: 7.7386, Accuracy: 98.96%\n",
      "Hey! the calculations are done in 1min 4.86sec\n",
      "Epoch 43, Loss: 4.6521, Accuracy: 99.27%\n",
      "Hey! the calculations are done in 1min 4.26sec\n",
      "Epoch 44, Loss: 4.9074, Accuracy: 99.34%\n",
      "Hey! the calculations are done in 1min 6.34sec\n",
      "Epoch 45, Loss: 6.7570, Accuracy: 99.05%\n",
      "Hey! the calculations are done in 1min 4.47sec\n",
      "Epoch 46, Loss: 5.9868, Accuracy: 99.20%\n",
      "Hey! the calculations are done in 1min 3.57sec\n",
      "Epoch 47, Loss: 6.7609, Accuracy: 99.08%\n",
      "Hey! the calculations are done in 1min 3.57sec\n",
      "Epoch 48, Loss: 7.3084, Accuracy: 99.03%\n",
      "Hey! the calculations are done in 1min 3.57sec\n",
      "Epoch 49, Loss: 4.9245, Accuracy: 99.38%\n",
      "Hey! the calculations are done in 1min 3.26sec\n",
      "Epoch 50, Loss: 7.4233, Accuracy: 99.33%\n",
      "Hey! the calculations are done in 1min 3.0sec\n"
     ]
    }
   ],
   "source": [
    "loss_train = []\n",
    "acc_train = []\n",
    "for epoch in range(50):\n",
    "    model.train()\n",
    "    running_loss = 0.0\n",
    "    correct = 0\n",
    "    total = 0\n",
    "    \n",
    "    start = time.time()\n",
    "    temp_loss = 0\n",
    "    for inputs, labels in dataloaders['train']:\n",
    "        inputs, labels = inputs.to(device), labels.to(device)\n",
    "        \n",
    "        optimizer.zero_grad()\n",
    "        outputs = model(inputs)\n",
    "        loss = criterion(outputs, labels)\n",
    "        loss.backward()\n",
    "        optimizer.step()\n",
    "        temp_loss = loss.detach().cpu().item()\n",
    "        running_loss += loss.item()\n",
    "        _, preds = torch.max(outputs, 1)\n",
    "        correct += (preds == labels).sum().item()\n",
    "        total += labels.size(0)\n",
    "\n",
    "    acc = 100 * correct / total\n",
    "    acc_train.append(acc)\n",
    "    loss_train.append(temp_loss)\n",
    "    print(f\"Epoch {epoch+1}, Loss: {running_loss:.4f}, Accuracy: {acc:.2f}%\")\n",
    "    print(f\"Hey! the calculations are done in {_time(start, time.time())}\")\n"
   ]
  },
  {
   "cell_type": "code",
   "execution_count": 8,
   "metadata": {
    "id": "tt7eBAF67SNO"
   },
   "outputs": [
    {
     "name": "stdout",
     "output_type": "stream",
     "text": [
      "Test Accuracy: 78.69%\n",
      "Hey! the calculations are done in 9.72sec\n"
     ]
    }
   ],
   "source": [
    "correct = 0\n",
    "total = 0\n",
    "start = time.time()\n",
    "loss_test = []\n",
    "all_labels = []\n",
    "all_preds = []\n",
    "all_probs = []\n",
    "\n",
    "\n",
    "with torch.no_grad():\n",
    "    for inputs, labels in dataloaders['test']:\n",
    "        inputs, labels = inputs.to(device), labels.to(device)\n",
    "        outputs = model(inputs)\n",
    "        loss = criterion(outputs, labels)\n",
    "        loss_test.append(loss.detach().cpu().item())\n",
    "        _, preds = torch.max(outputs, 1)\n",
    "        correct += (preds == labels).sum().item()\n",
    "        total += labels.size(0)\n",
    "        all_labels.extend(labels.cpu().numpy())\n",
    "        all_preds.extend(preds.cpu().numpy())\n",
    "\n",
    "        # Store probabilities for ROC-AUC curve (assuming binary classification)\n",
    "        all_probs.extend(torch.nn.functional.softmax(outputs, dim=1)[:, 1].cpu().numpy())\n",
    "\n",
    "print(f\"Test Accuracy: {100 * correct / total:.2f}%\")\n",
    "print(f\"Hey! the calculations are done in {_time(start, time.time())}\")"
   ]
  },
  {
   "cell_type": "code",
   "execution_count": 9,
   "metadata": {},
   "outputs": [
    {
     "name": "stdout",
     "output_type": "stream",
     "text": [
      "Precision: 0.8124\n",
      "Recall: 0.7869\n",
      "F1-score: 0.7676\n"
     ]
    },
    {
     "data": {
      "image/png": "[encoded data removed]",
      "text/plain": [
       "<Figure size 640x480 with 1 Axes>"
      ]
     },
     "metadata": {},
     "output_type": "display_data"
    },
    {
     "name": "stdout",
     "output_type": "stream",
     "text": [
      "ROC-AUC Score: 0.8666\n"
     ]
    }
   ],
   "source": [
    "\n",
    "# Compute Precision, Recall, F1-score\n",
    "precision = precision_score(all_labels, all_preds, average='weighted')\n",
    "recall = recall_score(all_labels, all_preds, average='weighted')\n",
    "f1 = f1_score(all_labels, all_preds, average='weighted')\n",
    "\n",
    "print(f\"Precision: {precision:.4f}\")\n",
    "print(f\"Recall: {recall:.4f}\")\n",
    "print(f\"F1-score: {f1:.4f}\")\n",
    "\n",
    "# Compute ROC-AUC Curve\n",
    "fpr, tpr, _ = roc_curve(all_labels, all_probs)\n",
    "roc_auc = roc_auc_score(all_labels, all_probs)\n",
    "\n",
    "# Plot ROC Curve\n",
    "plt.figure()\n",
    "plt.plot(fpr, tpr, label=f'ROC curve (area = {roc_auc:.4f})')\n",
    "plt.plot([0, 1], [0, 1], 'k--')  # Diagonal line\n",
    "plt.xlabel('False Positive Rate')\n",
    "plt.ylabel('True Positive Rate')\n",
    "plt.title('ROC Curve')\n",
    "plt.legend(loc=\"lower right\")\n",
    "plt.show()\n",
    "\n",
    "print(f\"ROC-AUC Score: {roc_auc:.4f}\")"
   ]
  },
  {
   "cell_type": "code",
   "execution_count": 10,
   "metadata": {
    "id": "Qodr1G9J8NkR"
   },
   "outputs": [
    {
     "data": {
      "text/plain": [
       "<sklearn.metrics._plot.confusion_matrix.ConfusionMatrixDisplay at 0x2081ca66bd0>"
      ]
     },
     "execution_count": 10,
     "metadata": {},
     "output_type": "execute_result"
    },
    {
     "data": {
      "image/png": "[encoded data removed]",
      "text/plain": [
       "<Figure size 640x480 with 2 Axes>"
      ]
     },
     "metadata": {},
     "output_type": "display_data"
    }
   ],
   "source": [
    "Categories = ['Normal', 'Pneumonia']\n",
    "cm = confusion_matrix(all_labels, all_preds)\n",
    "ConfusionMatrixDisplay(confusion_matrix=cm, display_labels=Categories).plot()"
   ]
  },
  {
   "cell_type": "code",
   "execution_count": 11,
   "metadata": {},
   "outputs": [],
   "source": [
    "from sklearn.metrics import classification_report"
   ]
  },
  {
   "cell_type": "code",
   "execution_count": 12,
   "metadata": {
    "id": "nPoX52qDS4Nz"
   },
   "outputs": [
    {
     "name": "stdout",
     "output_type": "stream",
     "text": [
      "              precision    recall  f1-score   support\n",
      "\n",
      "      Normal       0.90      0.48      0.63       234\n",
      "   Pneumonia       0.76      0.97      0.85       390\n",
      "\n",
      "    accuracy                           0.79       624\n",
      "   macro avg       0.83      0.73      0.74       624\n",
      "weighted avg       0.81      0.79      0.77       624\n",
      "\n"
     ]
    }
   ],
   "source": [
    "print(classification_report(all_labels, all_preds, target_names=Categories))"
   ]
  },
  {
   "cell_type": "code",
   "execution_count": null,
   "metadata": {},
   "outputs": [],
   "source": []
  }
 ],
 "metadata": {
  "accelerator": "GPU",
  "colab": {
   "gpuType": "T4",
   "provenance": []
  },
  "kernelspec": {
   "display_name": "Python 3 (ipykernel)",
   "language": "python",
   "name": "python3"
  },
  "language_info": {
   "codemirror_mode": {
    "name": "ipython",
    "version": 3
   },
   "file_extension": ".py",
   "mimetype": "text/x-python",
   "name": "python",
   "nbconvert_exporter": "python",
   "pygments_lexer": "ipython3",
   "version": "3.12.4"
  }
 },
 "nbformat": 4,
 "nbformat_minor": 4
}
