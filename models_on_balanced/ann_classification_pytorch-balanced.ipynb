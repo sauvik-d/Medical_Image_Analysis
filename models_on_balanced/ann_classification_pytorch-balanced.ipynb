{
 "cells": [
  {
   "cell_type": "code",
   "execution_count": 15,
   "metadata": {
    "id": "BlTHEc7x68XI"
   },
   "outputs": [],
   "source": [
    "import torch\n",
    "import torch.nn as nn\n",
    "import torch.optim as optim\n",
    "from torch.utils.data import DataLoader\n",
    "from torchvision import datasets, transforms\n",
    "from sklearn.metrics import classification_report, precision_score, recall_score, f1_score, accuracy_score, confusion_matrix, ConfusionMatrixDisplay, roc_curve, roc_auc_score\n",
    "import matplotlib.pyplot as plt\n",
    "import os"
   ]
  },
  {
   "cell_type": "code",
   "execution_count": 7,
   "metadata": {},
   "outputs": [],
   "source": [
    "import time\n",
    "def _time(start, end): \n",
    "    # if in seconds \n",
    "    if (end-start)<60: \n",
    "        wall_time = f'{round((end-start),2)}sec'\n",
    "    # if in minute(s)  \n",
    "    elif (end-start)>=3600: \n",
    "        wall_time = f'{int((end-start)/3600)}h {int(((end-start)%3600)/60)}min {round((end-start)%60,2)}sec'\n",
    "    # if in houre(s)  \n",
    "    else: \n",
    "        wall_time = f'{int((end-start)/60)}min {round((end-start)%60,2)}sec'\n",
    "    return wall_time"
   ]
  },
  {
   "cell_type": "code",
   "execution_count": 8,
   "metadata": {},
   "outputs": [],
   "source": [
    "data_dir = \"D:/github/archive/chest_xray/balanced\"\n",
    "batch_size = 32\n",
    "image_size = 128  # or 256\n",
    "\n",
    "# Transform with resizing and normalization\n",
    "data_transforms = {\n",
    "    'train': transforms.Compose([\n",
    "        transforms.Resize((image_size, image_size)),\n",
    "        transforms.Grayscale(num_output_channels=1),\n",
    "        transforms.ToTensor(),\n",
    "        transforms.Normalize([0.5], [0.5])\n",
    "    ]),\n",
    "    'val': transforms.Compose([\n",
    "        transforms.Resize((image_size, image_size)),\n",
    "        transforms.Grayscale(num_output_channels=1),\n",
    "        transforms.ToTensor(),\n",
    "        transforms.Normalize([0.5], [0.5])\n",
    "    ]),\n",
    "    'test': transforms.Compose([\n",
    "        transforms.Resize((image_size, image_size)),\n",
    "        transforms.Grayscale(num_output_channels=1),\n",
    "        transforms.ToTensor(),\n",
    "        transforms.Normalize([0.5], [0.5])\n",
    "    ])\n",
    "}\n"
   ]
  },
  {
   "cell_type": "code",
   "execution_count": 9,
   "metadata": {},
   "outputs": [],
   "source": [
    "datasets_dict = {x: datasets.ImageFolder(os.path.join(data_dir, x), transform=data_transforms[x])\n",
    "                 for x in ['train', 'val', 'test']}\n",
    "\n",
    "dataloaders = {x: DataLoader(datasets_dict[x], batch_size=batch_size, shuffle=True)\n",
    "               for x in ['train', 'val', 'test']}\n",
    "\n",
    "class_names = datasets_dict['train'].classes"
   ]
  },
  {
   "cell_type": "code",
   "execution_count": 10,
   "metadata": {
    "id": "j9H-DzJc7HRq"
   },
   "outputs": [],
   "source": [
    "class ANN(nn.Module):\n",
    "    def __init__(self):\n",
    "        super(ANN, self).__init__()\n",
    "        self.fc = nn.Sequential(\n",
    "            nn.Flatten(),\n",
    "            nn.Linear(128*128, 512),\n",
    "            nn.ReLU(),\n",
    "            nn.Dropout(0.3),\n",
    "            nn.Linear(512, 128),\n",
    "            nn.ReLU(),\n",
    "            nn.Dropout(0.3),\n",
    "            nn.Linear(128, 2)\n",
    "        )\n",
    "\n",
    "    def forward(self, x):\n",
    "        return self.fc(x)\n"
   ]
  },
  {
   "cell_type": "code",
   "execution_count": 11,
   "metadata": {
    "id": "1PM8hcDP7H6i"
   },
   "outputs": [],
   "source": [
    "device = torch.device(\"cuda\" if torch.cuda.is_available() else \"cpu\")\n",
    "\n",
    "model = ANN().to(device)\n",
    "criterion = nn.CrossEntropyLoss()\n",
    "optimizer = optim.Adam(model.parameters(), lr=0.001)\n"
   ]
  },
  {
   "cell_type": "code",
   "execution_count": 12,
   "metadata": {
    "colab": {
     "base_uri": "https://localhost:8080/"
    },
    "id": "o3ffl7Ek7Ocm",
    "outputId": "f938a50e-c3ea-4835-c557-f29aed69e2af"
   },
   "outputs": [
    {
     "name": "stdout",
     "output_type": "stream",
     "text": [
      "Epoch 1, Loss: 61.3056, Accuracy: 90.37%\n",
      "Hey! the calculations are done in 1min 11.58sec\n",
      "Epoch 2, Loss: 35.4660, Accuracy: 94.95%\n",
      "Hey! the calculations are done in 1min 4.34sec\n",
      "Epoch 3, Loss: 29.8950, Accuracy: 95.41%\n",
      "Hey! the calculations are done in 1min 3.77sec\n",
      "Epoch 4, Loss: 24.7921, Accuracy: 96.19%\n",
      "Hey! the calculations are done in 1min 3.37sec\n",
      "Epoch 5, Loss: 21.0962, Accuracy: 96.81%\n",
      "Hey! the calculations are done in 1min 3.9sec\n",
      "Epoch 6, Loss: 19.9892, Accuracy: 96.92%\n",
      "Hey! the calculations are done in 1min 3.91sec\n",
      "Epoch 7, Loss: 16.8876, Accuracy: 97.43%\n",
      "Hey! the calculations are done in 1min 3.51sec\n",
      "Epoch 8, Loss: 15.7942, Accuracy: 97.58%\n",
      "Hey! the calculations are done in 1min 3.62sec\n",
      "Epoch 9, Loss: 16.0052, Accuracy: 97.77%\n",
      "Hey! the calculations are done in 1min 3.62sec\n",
      "Epoch 10, Loss: 14.6300, Accuracy: 97.85%\n",
      "Hey! the calculations are done in 1min 3.67sec\n",
      "Epoch 11, Loss: 17.3618, Accuracy: 97.55%\n",
      "Hey! the calculations are done in 1min 4.28sec\n",
      "Epoch 12, Loss: 14.3903, Accuracy: 97.98%\n",
      "Hey! the calculations are done in 1min 3.74sec\n",
      "Epoch 13, Loss: 12.0936, Accuracy: 98.24%\n",
      "Hey! the calculations are done in 1min 4.51sec\n",
      "Epoch 14, Loss: 12.5431, Accuracy: 98.17%\n",
      "Hey! the calculations are done in 1min 2.61sec\n",
      "Epoch 15, Loss: 10.5093, Accuracy: 98.46%\n",
      "Hey! the calculations are done in 1min 3.16sec\n",
      "Epoch 16, Loss: 10.1345, Accuracy: 98.51%\n",
      "Hey! the calculations are done in 1min 3.31sec\n",
      "Epoch 17, Loss: 11.9687, Accuracy: 98.41%\n",
      "Hey! the calculations are done in 1min 3.58sec\n",
      "Epoch 18, Loss: 11.9058, Accuracy: 98.12%\n",
      "Hey! the calculations are done in 1min 3.47sec\n",
      "Epoch 19, Loss: 10.7687, Accuracy: 98.42%\n",
      "Hey! the calculations are done in 1min 3.45sec\n",
      "Epoch 20, Loss: 11.1907, Accuracy: 98.33%\n",
      "Hey! the calculations are done in 1min 3.85sec\n",
      "Epoch 21, Loss: 11.2188, Accuracy: 98.43%\n",
      "Hey! the calculations are done in 1min 2.91sec\n",
      "Epoch 22, Loss: 11.3219, Accuracy: 98.24%\n",
      "Hey! the calculations are done in 1min 3.52sec\n",
      "Epoch 23, Loss: 9.0926, Accuracy: 98.65%\n",
      "Hey! the calculations are done in 1min 3.43sec\n",
      "Epoch 24, Loss: 12.2678, Accuracy: 98.37%\n",
      "Hey! the calculations are done in 1min 3.4sec\n",
      "Epoch 25, Loss: 8.2844, Accuracy: 98.76%\n",
      "Hey! the calculations are done in 1min 3.34sec\n",
      "Epoch 26, Loss: 8.0891, Accuracy: 98.94%\n",
      "Hey! the calculations are done in 1min 3.98sec\n",
      "Epoch 27, Loss: 6.2916, Accuracy: 99.03%\n",
      "Hey! the calculations are done in 1min 3.33sec\n",
      "Epoch 28, Loss: 8.4833, Accuracy: 98.70%\n",
      "Hey! the calculations are done in 1min 3.31sec\n",
      "Epoch 29, Loss: 8.4437, Accuracy: 98.82%\n",
      "Hey! the calculations are done in 1min 2.4sec\n",
      "Epoch 30, Loss: 11.1043, Accuracy: 98.48%\n",
      "Hey! the calculations are done in 1min 2.3sec\n",
      "Epoch 31, Loss: 7.1473, Accuracy: 98.95%\n",
      "Hey! the calculations are done in 1min 3.53sec\n",
      "Epoch 32, Loss: 10.3795, Accuracy: 98.86%\n",
      "Hey! the calculations are done in 1min 3.45sec\n",
      "Epoch 33, Loss: 7.7263, Accuracy: 98.94%\n",
      "Hey! the calculations are done in 1min 3.54sec\n",
      "Epoch 34, Loss: 5.1603, Accuracy: 99.31%\n",
      "Hey! the calculations are done in 1min 3.51sec\n",
      "Epoch 35, Loss: 6.1519, Accuracy: 99.11%\n",
      "Hey! the calculations are done in 1min 3.15sec\n",
      "Epoch 36, Loss: 7.1997, Accuracy: 98.82%\n",
      "Hey! the calculations are done in 1min 3.99sec\n",
      "Epoch 37, Loss: 4.4536, Accuracy: 99.31%\n",
      "Hey! the calculations are done in 1min 3.18sec\n",
      "Epoch 38, Loss: 6.1898, Accuracy: 99.00%\n",
      "Hey! the calculations are done in 1min 2.33sec\n",
      "Epoch 39, Loss: 7.4606, Accuracy: 98.98%\n",
      "Hey! the calculations are done in 1min 3.19sec\n",
      "Epoch 40, Loss: 5.1838, Accuracy: 99.22%\n",
      "Hey! the calculations are done in 1min 3.26sec\n",
      "Epoch 41, Loss: 5.6810, Accuracy: 99.13%\n",
      "Hey! the calculations are done in 1min 3.7sec\n",
      "Epoch 42, Loss: 6.7912, Accuracy: 99.24%\n",
      "Hey! the calculations are done in 1min 3.43sec\n",
      "Epoch 43, Loss: 3.5785, Accuracy: 99.48%\n",
      "Hey! the calculations are done in 1min 3.36sec\n",
      "Epoch 44, Loss: 6.5751, Accuracy: 99.09%\n",
      "Hey! the calculations are done in 1min 3.18sec\n",
      "Epoch 45, Loss: 4.8846, Accuracy: 99.34%\n",
      "Hey! the calculations are done in 1min 3.18sec\n",
      "Epoch 46, Loss: 6.0027, Accuracy: 99.13%\n",
      "Hey! the calculations are done in 1min 3.54sec\n",
      "Epoch 47, Loss: 4.6157, Accuracy: 99.35%\n",
      "Hey! the calculations are done in 1min 42.7sec\n",
      "Epoch 48, Loss: 5.4566, Accuracy: 99.11%\n",
      "Hey! the calculations are done in 1min 18.31sec\n",
      "Epoch 49, Loss: 5.3069, Accuracy: 99.25%\n",
      "Hey! the calculations are done in 1min 3.01sec\n",
      "Epoch 50, Loss: 5.2815, Accuracy: 99.30%\n",
      "Hey! the calculations are done in 1min 4.01sec\n"
     ]
    }
   ],
   "source": [
    "loss_train = []\n",
    "acc_train = []\n",
    "for epoch in range(50):\n",
    "    model.train()\n",
    "    running_loss = 0.0\n",
    "    correct = 0\n",
    "    total = 0\n",
    "    \n",
    "    start = time.time()\n",
    "    temp_loss = 0\n",
    "    for inputs, labels in dataloaders['train']:\n",
    "        inputs, labels = inputs.to(device), labels.to(device)\n",
    "        \n",
    "        optimizer.zero_grad()\n",
    "        outputs = model(inputs)\n",
    "        loss = criterion(outputs, labels)\n",
    "        loss.backward()\n",
    "        optimizer.step()\n",
    "        temp_loss = loss.detach().cpu().item()\n",
    "        running_loss += loss.item()\n",
    "        _, preds = torch.max(outputs, 1)\n",
    "        correct += (preds == labels).sum().item()\n",
    "        total += labels.size(0)\n",
    "\n",
    "    acc = 100 * correct / total\n",
    "    acc_train.append(acc)\n",
    "    loss_train.append(temp_loss)\n",
    "    print(f\"Epoch {epoch+1}, Loss: {running_loss:.4f}, Accuracy: {acc:.2f}%\")\n",
    "    print(f\"Hey! the calculations are done in {_time(start, time.time())}\")\n"
   ]
  },
  {
   "cell_type": "code",
   "execution_count": 13,
   "metadata": {
    "id": "tt7eBAF67SNO"
   },
   "outputs": [
    {
     "name": "stdout",
     "output_type": "stream",
     "text": [
      "Test Accuracy: 77.40%\n",
      "Hey! the calculations are done in 10.58sec\n"
     ]
    }
   ],
   "source": [
    "correct = 0\n",
    "total = 0\n",
    "start = time.time()\n",
    "loss_test = []\n",
    "all_labels = []\n",
    "all_preds = []\n",
    "all_probs = []\n",
    "\n",
    "\n",
    "with torch.no_grad():\n",
    "    for inputs, labels in dataloaders['test']:\n",
    "        inputs, labels = inputs.to(device), labels.to(device)\n",
    "        outputs = model(inputs)\n",
    "        loss = criterion(outputs, labels)\n",
    "        loss_test.append(loss.detach().cpu().item())\n",
    "        _, preds = torch.max(outputs, 1)\n",
    "        correct += (preds == labels).sum().item()\n",
    "        total += labels.size(0)\n",
    "        all_labels.extend(labels.cpu().numpy())\n",
    "        all_preds.extend(preds.cpu().numpy())\n",
    "\n",
    "        # Store probabilities for ROC-AUC curve (assuming binary classification)\n",
    "        all_probs.extend(torch.nn.functional.softmax(outputs, dim=1)[:, 1].cpu().numpy())\n",
    "\n",
    "print(f\"Test Accuracy: {100 * correct / total:.2f}%\")\n",
    "print(f\"Hey! the calculations are done in {_time(start, time.time())}\")"
   ]
  },
  {
   "cell_type": "code",
   "execution_count": 16,
   "metadata": {},
   "outputs": [
    {
     "name": "stdout",
     "output_type": "stream",
     "text": [
      "Precision: 0.8244\n",
      "Recall: 0.7740\n",
      "F1-score: 0.7449\n"
     ]
    },
    {
     "data": {
      "image/png": "[encoded data removed]",
      "text/plain": [
       "<Figure size 640x480 with 1 Axes>"
      ]
     },
     "metadata": {},
     "output_type": "display_data"
    },
    {
     "name": "stdout",
     "output_type": "stream",
     "text": [
      "ROC-AUC Score: 0.8770\n"
     ]
    }
   ],
   "source": [
    "\n",
    "# Compute Precision, Recall, F1-score\n",
    "precision = precision_score(all_labels, all_preds, average='weighted')\n",
    "recall = recall_score(all_labels, all_preds, average='weighted')\n",
    "f1 = f1_score(all_labels, all_preds, average='weighted')\n",
    "\n",
    "print(f\"Precision: {precision:.4f}\")\n",
    "print(f\"Recall: {recall:.4f}\")\n",
    "print(f\"F1-score: {f1:.4f}\")\n",
    "\n",
    "# Compute ROC-AUC Curve\n",
    "fpr, tpr, _ = roc_curve(all_labels, all_probs)\n",
    "roc_auc = roc_auc_score(all_labels, all_probs)\n",
    "\n",
    "# Plot ROC Curve\n",
    "plt.figure()\n",
    "plt.plot(fpr, tpr, label=f'ROC curve (area = {roc_auc:.4f})')\n",
    "plt.plot([0, 1], [0, 1], 'k--')  # Diagonal line\n",
    "plt.xlabel('False Positive Rate')\n",
    "plt.ylabel('True Positive Rate')\n",
    "plt.title('ROC Curve')\n",
    "plt.legend(loc=\"lower right\")\n",
    "plt.show()\n",
    "\n",
    "print(f\"ROC-AUC Score: {roc_auc:.4f}\")"
   ]
  },
  {
   "cell_type": "code",
   "execution_count": 18,
   "metadata": {
    "id": "Qodr1G9J8NkR"
   },
   "outputs": [
    {
     "data": {
      "text/plain": [
       "<sklearn.metrics._plot.confusion_matrix.ConfusionMatrixDisplay at 0x248d871cd70>"
      ]
     },
     "execution_count": 18,
     "metadata": {},
     "output_type": "execute_result"
    },
    {
     "data": {
      "image/png": "[encoded data removed]",
      "text/plain": [
       "<Figure size 640x480 with 2 Axes>"
      ]
     },
     "metadata": {},
     "output_type": "display_data"
    }
   ],
   "source": [
    "Categories = ['Normal', 'Pneumonia']\n",
    "cm = confusion_matrix(all_labels, all_preds)\n",
    "ConfusionMatrixDisplay(confusion_matrix=cm, display_labels=Categories).plot()"
   ]
  },
  {
   "cell_type": "code",
   "execution_count": null,
   "metadata": {
    "id": "nPoX52qDS4Nz"
   },
   "outputs": [],
   "source": []
  }
 ],
 "metadata": {
  "accelerator": "GPU",
  "colab": {
   "gpuType": "T4",
   "provenance": []
  },
  "kernelspec": {
   "display_name": "Python 3 (ipykernel)",
   "language": "python",
   "name": "python3"
  },
  "language_info": {
   "codemirror_mode": {
    "name": "ipython",
    "version": 3
   },
   "file_extension": ".py",
   "mimetype": "text/x-python",
   "name": "python",
   "nbconvert_exporter": "python",
   "pygments_lexer": "ipython3",
   "version": "3.12.4"
  }
 },
 "nbformat": 4,
 "nbformat_minor": 4
}
