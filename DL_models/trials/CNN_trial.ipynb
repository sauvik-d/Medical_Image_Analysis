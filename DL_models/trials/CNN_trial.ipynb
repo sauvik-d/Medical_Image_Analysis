{
 "cells": [
  {
   "cell_type": "code",
   "execution_count": 1,
   "id": "ed875265-3619-43f7-b6b3-67ee24ce15f0",
   "metadata": {},
   "outputs": [],
   "source": [
    "import tensorflow as tf\n",
    "from tensorflow.keras.preprocessing.image import ImageDataGenerator\n",
    "from tensorflow.keras.applications import VGG16\n",
    "from tensorflow.keras import layers\n",
    "from tensorflow.keras import Model\n",
    "from tensorflow.keras.preprocessing import image\n",
    "from keras.layers import Dense, Conv2D, Flatten, MaxPooling2D\n",
    "from keras import Sequential\n",
    "import numpy as np"
   ]
  },
  {
   "cell_type": "code",
   "execution_count": 2,
   "id": "5e99cc36-3f09-4429-b769-3fb954edfe73",
   "metadata": {},
   "outputs": [],
   "source": [
    "train_dir = 'D:/github/archive/chest_xray/train'\n",
    "test_dir = 'D:/github/archive/chest_xray/test'\n",
    "val_dir = 'D:/github/archive/chest_xray/val'\n",
    "\n",
    "# Image dimensions and batch size\n",
    "image_size = (224, 224)\n",
    "batch_size = 32"
   ]
  },
  {
   "cell_type": "code",
   "execution_count": 3,
   "id": "b2787450-563d-4936-afd2-faefe741fe4d",
   "metadata": {},
   "outputs": [],
   "source": [
    "train_datagen = ImageDataGenerator(\n",
    "    rescale=1.0/255,\n",
    "    rotation_range=20,\n",
    "    width_shift_range=0.2,\n",
    "    height_shift_range=0.2,\n",
    "    shear_range=0.2,\n",
    "    zoom_range=0.2,\n",
    "    horizontal_flip=True,\n",
    "    fill_mode='nearest'\n",
    ")"
   ]
  },
  {
   "cell_type": "code",
   "execution_count": 4,
   "id": "8e8daa37-f7c7-4980-b66f-53fa1ba0dede",
   "metadata": {},
   "outputs": [
    {
     "name": "stdout",
     "output_type": "stream",
     "text": [
      "Found 5216 images belonging to 2 classes.\n"
     ]
    }
   ],
   "source": [
    "train_generator = train_datagen.flow_from_directory(\n",
    "    train_dir,\n",
    "    target_size=image_size,\n",
    "    batch_size=batch_size,\n",
    "    class_mode='binary'\n",
    ")"
   ]
  },
  {
   "cell_type": "code",
   "execution_count": 5,
   "id": "93ff2f2d-3e18-400e-b3a9-43e9050db6e5",
   "metadata": {},
   "outputs": [
    {
     "name": "stdout",
     "output_type": "stream",
     "text": [
      "Found 624 images belonging to 2 classes.\n"
     ]
    }
   ],
   "source": [
    "test_datagen = ImageDataGenerator(rescale=1.0/255)\n",
    "\n",
    "test_generator = test_datagen.flow_from_directory(\n",
    "    test_dir,\n",
    "    target_size=image_size,\n",
    "    batch_size=batch_size,\n",
    "    class_mode='binary'\n",
    ")"
   ]
  },
  {
   "cell_type": "code",
   "execution_count": 6,
   "id": "40ad77cc-2778-4f5d-9e79-fb237e1fb8d9",
   "metadata": {},
   "outputs": [
    {
     "name": "stdout",
     "output_type": "stream",
     "text": [
      "Found 16 images belonging to 2 classes.\n"
     ]
    }
   ],
   "source": [
    "val_generator = test_datagen.flow_from_directory(\n",
    "    val_dir,\n",
    "    target_size=image_size,\n",
    "    batch_size=batch_size,\n",
    "    class_mode='binary'\n",
    ")"
   ]
  },
  {
   "cell_type": "code",
   "execution_count": 7,
   "id": "35e33b02-ca9f-43ab-b28a-374969af7755",
   "metadata": {},
   "outputs": [],
   "source": [
    "model = Sequential()\n",
    "\n",
    "model.add(Conv2D(128,kernel_size=(3,3),padding='valid', activation='relu', input_shape=(224,224,3)))\n",
    "model.add(MaxPooling2D(pool_size=(2, 2), strides=2, padding='valid'))\n",
    "model.add(Conv2D(64,kernel_size=(3,3),padding='valid', activation='relu'))\n",
    "model.add(MaxPooling2D(pool_size=(2, 2), strides=2, padding='valid'))\n",
    "model.add(Conv2D(32,kernel_size=(3,3),padding='valid', activation='relu'))\n",
    "model.add(MaxPooling2D(pool_size=(2, 2), strides=2, padding='valid'))\n",
    "model.add(Conv2D(16,kernel_size=(3,3),padding='valid', activation='relu'))\n",
    "model.add(MaxPooling2D(pool_size=(2, 2), strides=1, padding='valid'))\n",
    "\n",
    "model.add(Flatten())\n",
    "\n",
    "model.add(Dense(128,activation='relu'))\n",
    "model.add(Dense(1,activation='sigmoid'))"
   ]
  },
  {
   "cell_type": "code",
   "execution_count": 8,
   "id": "9c3cdbac-ca4b-4e0c-a0a1-fa5d926a8de7",
   "metadata": {},
   "outputs": [
    {
     "name": "stdout",
     "output_type": "stream",
     "text": [
      "Model: \"sequential\"\n",
      "_________________________________________________________________\n",
      "Layer (type)                 Output Shape              Param #   \n",
      "=================================================================\n",
      "conv2d (Conv2D)              (None, 222, 222, 32)      896       \n",
      "_________________________________________________________________\n",
      "max_pooling2d (MaxPooling2D) (None, 111, 111, 32)      0         \n",
      "_________________________________________________________________\n",
      "conv2d_1 (Conv2D)            (None, 109, 109, 32)      9248      \n",
      "_________________________________________________________________\n",
      "max_pooling2d_1 (MaxPooling2 (None, 54, 54, 32)        0         \n",
      "_________________________________________________________________\n",
      "flatten (Flatten)            (None, 93312)             0         \n",
      "_________________________________________________________________\n",
      "dense (Dense)                (None, 128)               11944064  \n",
      "_________________________________________________________________\n",
      "dense_1 (Dense)              (None, 1)                 129       \n",
      "=================================================================\n",
      "Total params: 11,954,337\n",
      "Trainable params: 11,954,337\n",
      "Non-trainable params: 0\n",
      "_________________________________________________________________\n"
     ]
    }
   ],
   "source": [
    "model.summary()"
   ]
  },
  {
   "cell_type": "code",
   "execution_count": 9,
   "id": "2ef6d913-a938-42e7-803e-53920d2ef865",
   "metadata": {},
   "outputs": [],
   "source": [
    "model.compile(loss = 'binary_crossentropy', optimizer = tf.keras.optimizers.Adam(), metrics = ['accuracy'])"
   ]
  },
  {
   "cell_type": "code",
   "execution_count": null,
   "id": "3a73a642-1780-47e5-93a1-7978d3aa3743",
   "metadata": {},
   "outputs": [
    {
     "name": "stdout",
     "output_type": "stream",
     "text": [
      "Epoch 1/50\n",
      "163/163 [==============================] - 191s 1s/step - loss: 0.3800 - accuracy: 0.8171 - val_loss: 1.2923 - val_accuracy: 0.6250\n",
      "Epoch 2/50\n",
      "163/163 [==============================] - 156s 960ms/step - loss: 0.3049 - accuracy: 0.8597 - val_loss: 1.2062 - val_accuracy: 0.5625\n",
      "Epoch 3/50\n",
      "163/163 [==============================] - 164s 1s/step - loss: 0.2905 - accuracy: 0.8708 - val_loss: 1.3939 - val_accuracy: 0.6250\n",
      "Epoch 4/50\n",
      "163/163 [==============================] - 158s 966ms/step - loss: 0.2714 - accuracy: 0.8877 - val_loss: 0.7663 - val_accuracy: 0.6250\n",
      "Epoch 5/50\n",
      "163/163 [==============================] - 162s 992ms/step - loss: 0.2514 - accuracy: 0.8953 - val_loss: 1.1100 - val_accuracy: 0.5625\n",
      "Epoch 6/50\n",
      "163/163 [==============================] - 146s 896ms/step - loss: 0.2402 - accuracy: 0.8980 - val_loss: 0.9549 - val_accuracy: 0.5625\n",
      "Epoch 7/50\n",
      "163/163 [==============================] - 146s 893ms/step - loss: 0.2199 - accuracy: 0.9099 - val_loss: 0.6592 - val_accuracy: 0.6250\n",
      "Epoch 8/50\n",
      "163/163 [==============================] - 159s 978ms/step - loss: 0.2220 - accuracy: 0.9047 - val_loss: 0.4122 - val_accuracy: 0.8125\n",
      "Epoch 9/50\n",
      "  3/163 [..............................] - ETA: 1:36 - loss: 0.2788 - accuracy: 0.9062"
     ]
    }
   ],
   "source": [
    "history = model.fit(train_generator, epochs=50, batch_size=16, validation_data=val_generator)"
   ]
  },
  {
   "cell_type": "code",
   "execution_count": null,
   "id": "6cd5f321-1d58-4b9e-9710-e4a534ef1f18",
   "metadata": {},
   "outputs": [],
   "source": []
  }
 ],
 "metadata": {
  "kernelspec": {
   "display_name": "env1kernel",
   "language": "python",
   "name": "env1"
  },
  "language_info": {
   "codemirror_mode": {
    "name": "ipython",
    "version": 3
   },
   "file_extension": ".py",
   "mimetype": "text/x-python",
   "name": "python",
   "nbconvert_exporter": "python",
   "pygments_lexer": "ipython3",
   "version": "3.8.20"
  }
 },
 "nbformat": 4,
 "nbformat_minor": 5
}
